{
 "cells": [
  {
   "cell_type": "code",
   "execution_count": 1,
   "metadata": {},
   "outputs": [
    {
     "data": {
      "text/plain": [
       "3"
      ]
     },
     "execution_count": 1,
     "metadata": {},
     "output_type": "execute_result"
    }
   ],
   "source": [
    "1+2"
   ]
  },
  {
   "cell_type": "code",
   "execution_count": 4,
   "metadata": {},
   "outputs": [
    {
     "ename": "KeyError",
     "evalue": "'a'",
     "output_type": "error",
     "traceback": [
      "\u001b[0;31m---------------------------------------------------------------------------\u001b[0m",
      "\u001b[0;31mKeyError\u001b[0m                                  Traceback (most recent call last)",
      "\u001b[0;32m<ipython-input-4-59ce6340cf1c>\u001b[0m in \u001b[0;36m<module>\u001b[0;34m\u001b[0m\n\u001b[1;32m      1\u001b[0m \u001b[0ma\u001b[0m \u001b[0;34m=\u001b[0m \u001b[0mdict\u001b[0m\u001b[0;34m(\u001b[0m\u001b[0;34m)\u001b[0m\u001b[0;34m\u001b[0m\u001b[0;34m\u001b[0m\u001b[0m\n\u001b[1;32m      2\u001b[0m \u001b[0mb\u001b[0m \u001b[0;34m=\u001b[0m \u001b[0;34m'a'\u001b[0m\u001b[0;34m\u001b[0m\u001b[0;34m\u001b[0m\u001b[0m\n\u001b[0;32m----> 3\u001b[0;31m \u001b[0ma\u001b[0m\u001b[0;34m[\u001b[0m\u001b[0mb\u001b[0m\u001b[0;34m]\u001b[0m\u001b[0;34m\u001b[0m\u001b[0;34m\u001b[0m\u001b[0m\n\u001b[0m",
      "\u001b[0;31mKeyError\u001b[0m: 'a'"
     ]
    }
   ],
   "source": [
    "a = dict()\n",
    "b = 'a'\n",
    "a[b]"
   ]
  },
  {
   "cell_type": "code",
   "execution_count": 4,
   "metadata": {},
   "outputs": [],
   "source": [
    "import h5py\n",
    "import numpy as np\n",
    "r = {}\n",
    "with h5py.File('/srv/cosmdatb/erebos/peng/sims.TNG/TNG300-1/postprocessing/trees/SubLink/tree_extended.0.hdf5','r') as f:\n",
    "    for field in list(f.keys()):\n",
    "        r[field] = np.array(f[field])"
   ]
  },
  {
   "cell_type": "code",
   "execution_count": 31,
   "metadata": {},
   "outputs": [
    {
     "data": {
      "text/plain": [
       "dict_keys(['DescendantID', 'FirstProgenitorID', 'FirstSubhaloInFOFGroupID', 'GroupBHMass', 'GroupBHMdot', 'GroupCM', 'GroupFirstSub', 'GroupGasMetalFractions', 'GroupGasMetallicity', 'GroupLen', 'GroupLenType', 'GroupMass', 'GroupMassType', 'GroupNsubs', 'GroupPos', 'GroupSFR', 'GroupStarMetalFractions', 'GroupStarMetallicity', 'GroupVel', 'GroupWindMass', 'Group_M_Crit200', 'Group_M_Crit500', 'Group_M_Mean200', 'Group_M_TopHat200', 'Group_R_Crit200', 'Group_R_Crit500', 'Group_R_Mean200', 'Group_R_TopHat200', 'LastProgenitorID', 'MainLeafProgenitorID', 'Mass', 'MassHistory', 'NextProgenitorID', 'NextSubhaloInFOFGroupID', 'NumParticles', 'RootDescendantID', 'SnapNum', 'SubfindID', 'SubhaloBHMass', 'SubhaloBHMdot', 'SubhaloBfldDisk', 'SubhaloBfldHalo', 'SubhaloCM', 'SubhaloGasMetalFractions', 'SubhaloGasMetalFractionsHalfRad', 'SubhaloGasMetalFractionsMaxRad', 'SubhaloGasMetalFractionsSfr', 'SubhaloGasMetalFractionsSfrWeighted', 'SubhaloGasMetallicity', 'SubhaloGasMetallicityHalfRad', 'SubhaloGasMetallicityMaxRad', 'SubhaloGasMetallicitySfr', 'SubhaloGasMetallicitySfrWeighted', 'SubhaloGrNr', 'SubhaloHalfmassRad', 'SubhaloHalfmassRadType', 'SubhaloID', 'SubhaloIDMostbound', 'SubhaloIDRaw', 'SubhaloLen', 'SubhaloLenType', 'SubhaloMass', 'SubhaloMassInHalfRad', 'SubhaloMassInHalfRadType', 'SubhaloMassInMaxRad', 'SubhaloMassInMaxRadType', 'SubhaloMassInRad', 'SubhaloMassInRadType', 'SubhaloMassType', 'SubhaloParent', 'SubhaloPos', 'SubhaloSFR', 'SubhaloSFRinHalfRad', 'SubhaloSFRinMaxRad', 'SubhaloSFRinRad', 'SubhaloSpin', 'SubhaloStarMetalFractions', 'SubhaloStarMetalFractionsHalfRad', 'SubhaloStarMetalFractionsMaxRad', 'SubhaloStarMetallicity', 'SubhaloStarMetallicityHalfRad', 'SubhaloStarMetallicityMaxRad', 'SubhaloStellarPhotometrics', 'SubhaloStellarPhotometricsMassInRad', 'SubhaloStellarPhotometricsRad', 'SubhaloVel', 'SubhaloVelDisp', 'SubhaloVmax', 'SubhaloVmaxRad', 'SubhaloWindMass', 'TreeID'])"
      ]
     },
     "execution_count": 31,
     "metadata": {},
     "output_type": "execute_result"
    }
   ],
   "source": [
    "r.keys()"
   ]
  },
  {
   "cell_type": "code",
   "execution_count": 6,
   "metadata": {},
   "outputs": [
    {
     "data": {
      "text/plain": [
       "695381"
      ]
     },
     "execution_count": 6,
     "metadata": {},
     "output_type": "execute_result"
    }
   ],
   "source": [
    "r['NextProgenitorID'][1]"
   ]
  },
  {
   "cell_type": "code",
   "execution_count": 35,
   "metadata": {},
   "outputs": [
    {
     "data": {
      "text/plain": [
       "(11960430, 6)"
      ]
     },
     "execution_count": 35,
     "metadata": {},
     "output_type": "execute_result"
    }
   ],
   "source": [
    "r['SubhaloLenType'].shape"
   ]
  },
  {
   "cell_type": "code",
   "execution_count": 285,
   "metadata": {},
   "outputs": [
    {
     "data": {
      "text/plain": [
       "True"
      ]
     },
     "execution_count": 285,
     "metadata": {},
     "output_type": "execute_result"
    }
   ],
   "source": [
    "'SubhaloHalfmassRadType' in r.keys()"
   ]
  },
  {
   "cell_type": "code",
   "execution_count": 54,
   "metadata": {},
   "outputs": [
    {
     "data": {
      "text/plain": [
       "dict_keys(['count', 'SnapNum', 'SubhaloMassType', 'SubhaloID', 'SubfindID', 'SubhaloBHMass'])"
      ]
     },
     "execution_count": 54,
     "metadata": {},
     "output_type": "execute_result"
    }
   ],
   "source": [
    "tree.keys()"
   ]
  },
  {
   "cell_type": "code",
   "execution_count": 108,
   "metadata": {},
   "outputs": [
    {
     "ename": "OSError",
     "evalue": "Unable to open file (unable to open file: name = '/srv/cosmdatb/erebos/peng/sims.TNG/TNG300-1/output/../postprocessing/offsets/offsets_098.hdf5', errno = 2, error message = 'No such file or directory', flags = 0, o_flags = 0)",
     "output_type": "error",
     "traceback": [
      "\u001b[0;31m---------------------------------------------------------------------------\u001b[0m",
      "\u001b[0;31mOSError\u001b[0m                                   Traceback (most recent call last)",
      "\u001b[0;32m<ipython-input-108-362967cd3044>\u001b[0m in \u001b[0;36m<module>\u001b[0;34m\u001b[0m\n\u001b[1;32m     69\u001b[0m     \u001b[0ma\u001b[0m       \u001b[0;34m=\u001b[0m \u001b[0mA\u001b[0m\u001b[0;34m(\u001b[0m\u001b[0mSnapRedshift\u001b[0m\u001b[0;34m[\u001b[0m\u001b[0msnapNum\u001b[0m\u001b[0;34m]\u001b[0m\u001b[0;34m)\u001b[0m\u001b[0;34m\u001b[0m\u001b[0;34m\u001b[0m\u001b[0m\n\u001b[1;32m     70\u001b[0m     \u001b[0mH_z_0\u001b[0m   \u001b[0;34m=\u001b[0m \u001b[0mH_Z_0\u001b[0m\u001b[0;34m(\u001b[0m\u001b[0mSnapRedshift\u001b[0m\u001b[0;34m[\u001b[0m\u001b[0msnapNum\u001b[0m\u001b[0;34m]\u001b[0m\u001b[0;34m)\u001b[0m\u001b[0;34m\u001b[0m\u001b[0;34m\u001b[0m\u001b[0m\n\u001b[0;32m---> 71\u001b[0;31m     \u001b[0mS_T\u001b[0m \u001b[0;34m=\u001b[0m \u001b[0mnp\u001b[0m\u001b[0;34m.\u001b[0m\u001b[0mappend\u001b[0m\u001b[0;34m(\u001b[0m\u001b[0mS_T\u001b[0m\u001b[0;34m,\u001b[0m\u001b[0mratioS_T\u001b[0m\u001b[0;34m(\u001b[0m\u001b[0mbasePath\u001b[0m\u001b[0;34m,\u001b[0m\u001b[0msnapNum\u001b[0m\u001b[0;34m,\u001b[0m\u001b[0mID\u001b[0m\u001b[0;34m,\u001b[0m\u001b[0ma\u001b[0m\u001b[0;34m,\u001b[0m\u001b[0mH_z_0\u001b[0m\u001b[0;34m)\u001b[0m\u001b[0;34m)\u001b[0m\u001b[0;34m\u001b[0m\u001b[0;34m\u001b[0m\u001b[0m\n\u001b[0m\u001b[1;32m     72\u001b[0m \u001b[0;34m\u001b[0m\u001b[0m\n\u001b[1;32m     73\u001b[0m \u001b[0;34m\u001b[0m\u001b[0m\n",
      "\u001b[0;32m<ipython-input-108-362967cd3044>\u001b[0m in \u001b[0;36mratioS_T\u001b[0;34m(basePath, snapNum, ID, a, H_z_0, h)\u001b[0m\n\u001b[1;32m     34\u001b[0m \u001b[0;34m\u001b[0m\u001b[0m\n\u001b[1;32m     35\u001b[0m \u001b[0;32mdef\u001b[0m \u001b[0mratioS_T\u001b[0m\u001b[0;34m(\u001b[0m\u001b[0mbasePath\u001b[0m\u001b[0;34m,\u001b[0m\u001b[0msnapNum\u001b[0m\u001b[0;34m,\u001b[0m\u001b[0mID\u001b[0m\u001b[0;34m,\u001b[0m\u001b[0ma\u001b[0m\u001b[0;34m,\u001b[0m\u001b[0mH_z_0\u001b[0m\u001b[0;34m,\u001b[0m\u001b[0mh\u001b[0m\u001b[0;34m=\u001b[0m\u001b[0;36m0.6774\u001b[0m\u001b[0;34m)\u001b[0m\u001b[0;34m:\u001b[0m\u001b[0;34m\u001b[0m\u001b[0;34m\u001b[0m\u001b[0m\n\u001b[0;32m---> 36\u001b[0;31m     \u001b[0mData\u001b[0m    \u001b[0;34m=\u001b[0m \u001b[0mtoy\u001b[0m\u001b[0;34m.\u001b[0m\u001b[0mcirparameter\u001b[0m\u001b[0;34m(\u001b[0m\u001b[0mbasePath\u001b[0m\u001b[0;34m,\u001b[0m\u001b[0msnapNum\u001b[0m\u001b[0;34m,\u001b[0m\u001b[0mID\u001b[0m\u001b[0;34m,\u001b[0m\u001b[0ma\u001b[0m\u001b[0;34m,\u001b[0m\u001b[0mH_z_0\u001b[0m\u001b[0;34m)\u001b[0m\u001b[0;34m\u001b[0m\u001b[0;34m\u001b[0m\u001b[0m\n\u001b[0m\u001b[1;32m     37\u001b[0m     \u001b[0mstarNum\u001b[0m \u001b[0;34m=\u001b[0m \u001b[0mlen\u001b[0m\u001b[0;34m(\u001b[0m\u001b[0mData\u001b[0m\u001b[0;34m[\u001b[0m\u001b[0;34m'Masses'\u001b[0m\u001b[0;34m]\u001b[0m\u001b[0;34m)\u001b[0m\u001b[0;34m\u001b[0m\u001b[0;34m\u001b[0m\u001b[0m\n\u001b[1;32m     38\u001b[0m     \u001b[0mSpMass\u001b[0m  \u001b[0;34m=\u001b[0m \u001b[0;36m0\u001b[0m\u001b[0;34m\u001b[0m\u001b[0;34m\u001b[0m\u001b[0m\n",
      "\u001b[0;32m~/code/toycode1.py\u001b[0m in \u001b[0;36mcirparameter\u001b[0;34m(basePath, snapNum, ID, a, H_z_0, q)\u001b[0m\n\u001b[1;32m     58\u001b[0m     \u001b[0;34m'''load position, and vercility of stars in the subhalo'''\u001b[0m\u001b[0;34m\u001b[0m\u001b[0;34m\u001b[0m\u001b[0m\n\u001b[1;32m     59\u001b[0m \u001b[0;34m\u001b[0m\u001b[0m\n\u001b[0;32m---> 60\u001b[0;31m     \u001b[0mparData\u001b[0m \u001b[0;34m=\u001b[0m \u001b[0mil\u001b[0m\u001b[0;34m.\u001b[0m\u001b[0msnapshot\u001b[0m\u001b[0;34m.\u001b[0m\u001b[0mloadSubhalo\u001b[0m\u001b[0;34m(\u001b[0m\u001b[0mbasePath\u001b[0m\u001b[0;34m,\u001b[0m\u001b[0msnapNum\u001b[0m\u001b[0;34m,\u001b[0m\u001b[0mID\u001b[0m\u001b[0;34m,\u001b[0m\u001b[0;34m'star'\u001b[0m\u001b[0;34m,\u001b[0m\u001b[0mfields\u001b[0m\u001b[0;34m=\u001b[0m\u001b[0mfields\u001b[0m\u001b[0;34m)\u001b[0m\u001b[0;34m\u001b[0m\u001b[0;34m\u001b[0m\u001b[0m\n\u001b[0m\u001b[1;32m     61\u001b[0m \u001b[0;34m\u001b[0m\u001b[0m\n\u001b[1;32m     62\u001b[0m     \u001b[0;34m'''find the the position and velocity of the subhalo'''\u001b[0m\u001b[0;34m\u001b[0m\u001b[0;34m\u001b[0m\u001b[0m\n",
      "\u001b[0;32m~/code/illustris_python1/snapshot.py\u001b[0m in \u001b[0;36mloadSubhalo\u001b[0;34m(basePath, snapNum, id, partType, fields)\u001b[0m\n\u001b[1;32m    192\u001b[0m         (optionally restricted to a subset fields). \"\"\"\n\u001b[1;32m    193\u001b[0m     \u001b[0;31m# load subhalo length, compute offset, call loadSubset\u001b[0m\u001b[0;34m\u001b[0m\u001b[0;34m\u001b[0m\u001b[0;34m\u001b[0m\u001b[0m\n\u001b[0;32m--> 194\u001b[0;31m     \u001b[0msubset\u001b[0m \u001b[0;34m=\u001b[0m \u001b[0mgetSnapOffsets\u001b[0m\u001b[0;34m(\u001b[0m\u001b[0mbasePath\u001b[0m\u001b[0;34m,\u001b[0m \u001b[0msnapNum\u001b[0m\u001b[0;34m,\u001b[0m \u001b[0mid\u001b[0m\u001b[0;34m,\u001b[0m \u001b[0;34m\"Subhalo\"\u001b[0m\u001b[0;34m)\u001b[0m\u001b[0;34m\u001b[0m\u001b[0;34m\u001b[0m\u001b[0m\n\u001b[0m\u001b[1;32m    195\u001b[0m     \u001b[0;32mreturn\u001b[0m \u001b[0mloadSubset\u001b[0m\u001b[0;34m(\u001b[0m\u001b[0mbasePath\u001b[0m\u001b[0;34m,\u001b[0m \u001b[0msnapNum\u001b[0m\u001b[0;34m,\u001b[0m \u001b[0mpartType\u001b[0m\u001b[0;34m,\u001b[0m \u001b[0mfields\u001b[0m\u001b[0;34m,\u001b[0m \u001b[0msubset\u001b[0m\u001b[0;34m=\u001b[0m\u001b[0msubset\u001b[0m\u001b[0;34m)\u001b[0m\u001b[0;34m\u001b[0m\u001b[0;34m\u001b[0m\u001b[0m\n\u001b[1;32m    196\u001b[0m \u001b[0;34m\u001b[0m\u001b[0m\n",
      "\u001b[0;32m~/code/illustris_python1/snapshot.py\u001b[0m in \u001b[0;36mgetSnapOffsets\u001b[0;34m(basePath, snapNum, id, type)\u001b[0m\n\u001b[1;32m    159\u001b[0m     \u001b[0;32mif\u001b[0m \u001b[0;34m'fof_subhalo'\u001b[0m \u001b[0;32min\u001b[0m \u001b[0mgcPath\u001b[0m\u001b[0;34m(\u001b[0m\u001b[0mbasePath\u001b[0m\u001b[0;34m,\u001b[0m \u001b[0msnapNum\u001b[0m\u001b[0;34m)\u001b[0m\u001b[0;34m:\u001b[0m\u001b[0;34m\u001b[0m\u001b[0;34m\u001b[0m\u001b[0m\n\u001b[1;32m    160\u001b[0m         \u001b[0;31m# use separate 'offsets_nnn.hdf5' files\u001b[0m\u001b[0;34m\u001b[0m\u001b[0;34m\u001b[0m\u001b[0;34m\u001b[0m\u001b[0m\n\u001b[0;32m--> 161\u001b[0;31m         \u001b[0;32mwith\u001b[0m \u001b[0mh5py\u001b[0m\u001b[0;34m.\u001b[0m\u001b[0mFile\u001b[0m\u001b[0;34m(\u001b[0m\u001b[0moffsetPath\u001b[0m\u001b[0;34m(\u001b[0m\u001b[0mbasePath\u001b[0m\u001b[0;34m,\u001b[0m \u001b[0msnapNum\u001b[0m\u001b[0;34m)\u001b[0m\u001b[0;34m,\u001b[0m \u001b[0;34m'r'\u001b[0m\u001b[0;34m)\u001b[0m \u001b[0;32mas\u001b[0m \u001b[0mf\u001b[0m\u001b[0;34m:\u001b[0m\u001b[0;34m\u001b[0m\u001b[0;34m\u001b[0m\u001b[0m\n\u001b[0m\u001b[1;32m    162\u001b[0m             \u001b[0mgroupFileOffsets\u001b[0m \u001b[0;34m=\u001b[0m \u001b[0mf\u001b[0m\u001b[0;34m[\u001b[0m\u001b[0;34m'FileOffsets/'\u001b[0m\u001b[0;34m+\u001b[0m\u001b[0mtype\u001b[0m\u001b[0;34m]\u001b[0m\u001b[0;34m[\u001b[0m\u001b[0;34m(\u001b[0m\u001b[0;34m)\u001b[0m\u001b[0;34m]\u001b[0m\u001b[0;34m\u001b[0m\u001b[0;34m\u001b[0m\u001b[0m\n\u001b[1;32m    163\u001b[0m             \u001b[0mr\u001b[0m\u001b[0;34m[\u001b[0m\u001b[0;34m'snapOffsets'\u001b[0m\u001b[0;34m]\u001b[0m \u001b[0;34m=\u001b[0m \u001b[0mnp\u001b[0m\u001b[0;34m.\u001b[0m\u001b[0mtranspose\u001b[0m\u001b[0;34m(\u001b[0m\u001b[0mf\u001b[0m\u001b[0;34m[\u001b[0m\u001b[0;34m'FileOffsets/SnapByType'\u001b[0m\u001b[0;34m]\u001b[0m\u001b[0;34m[\u001b[0m\u001b[0;34m(\u001b[0m\u001b[0;34m)\u001b[0m\u001b[0;34m]\u001b[0m\u001b[0;34m)\u001b[0m  \u001b[0;31m# consistency\u001b[0m\u001b[0;34m\u001b[0m\u001b[0;34m\u001b[0m\u001b[0m\n",
      "\u001b[0;32m~/anaconda3/lib/python3.8/site-packages/h5py/_hl/files.py\u001b[0m in \u001b[0;36m__init__\u001b[0;34m(self, name, mode, driver, libver, userblock_size, swmr, rdcc_nslots, rdcc_nbytes, rdcc_w0, track_order, **kwds)\u001b[0m\n\u001b[1;32m    404\u001b[0m             \u001b[0;32mwith\u001b[0m \u001b[0mphil\u001b[0m\u001b[0;34m:\u001b[0m\u001b[0;34m\u001b[0m\u001b[0;34m\u001b[0m\u001b[0m\n\u001b[1;32m    405\u001b[0m                 \u001b[0mfapl\u001b[0m \u001b[0;34m=\u001b[0m \u001b[0mmake_fapl\u001b[0m\u001b[0;34m(\u001b[0m\u001b[0mdriver\u001b[0m\u001b[0;34m,\u001b[0m \u001b[0mlibver\u001b[0m\u001b[0;34m,\u001b[0m \u001b[0mrdcc_nslots\u001b[0m\u001b[0;34m,\u001b[0m \u001b[0mrdcc_nbytes\u001b[0m\u001b[0;34m,\u001b[0m \u001b[0mrdcc_w0\u001b[0m\u001b[0;34m,\u001b[0m \u001b[0;34m**\u001b[0m\u001b[0mkwds\u001b[0m\u001b[0;34m)\u001b[0m\u001b[0;34m\u001b[0m\u001b[0;34m\u001b[0m\u001b[0m\n\u001b[0;32m--> 406\u001b[0;31m                 fid = make_fid(name, mode, userblock_size,\n\u001b[0m\u001b[1;32m    407\u001b[0m                                \u001b[0mfapl\u001b[0m\u001b[0;34m,\u001b[0m \u001b[0mfcpl\u001b[0m\u001b[0;34m=\u001b[0m\u001b[0mmake_fcpl\u001b[0m\u001b[0;34m(\u001b[0m\u001b[0mtrack_order\u001b[0m\u001b[0;34m=\u001b[0m\u001b[0mtrack_order\u001b[0m\u001b[0;34m)\u001b[0m\u001b[0;34m,\u001b[0m\u001b[0;34m\u001b[0m\u001b[0;34m\u001b[0m\u001b[0m\n\u001b[1;32m    408\u001b[0m                                swmr=swmr)\n",
      "\u001b[0;32m~/anaconda3/lib/python3.8/site-packages/h5py/_hl/files.py\u001b[0m in \u001b[0;36mmake_fid\u001b[0;34m(name, mode, userblock_size, fapl, fcpl, swmr)\u001b[0m\n\u001b[1;32m    171\u001b[0m         \u001b[0;32mif\u001b[0m \u001b[0mswmr\u001b[0m \u001b[0;32mand\u001b[0m \u001b[0mswmr_support\u001b[0m\u001b[0;34m:\u001b[0m\u001b[0;34m\u001b[0m\u001b[0;34m\u001b[0m\u001b[0m\n\u001b[1;32m    172\u001b[0m             \u001b[0mflags\u001b[0m \u001b[0;34m|=\u001b[0m \u001b[0mh5f\u001b[0m\u001b[0;34m.\u001b[0m\u001b[0mACC_SWMR_READ\u001b[0m\u001b[0;34m\u001b[0m\u001b[0;34m\u001b[0m\u001b[0m\n\u001b[0;32m--> 173\u001b[0;31m         \u001b[0mfid\u001b[0m \u001b[0;34m=\u001b[0m \u001b[0mh5f\u001b[0m\u001b[0;34m.\u001b[0m\u001b[0mopen\u001b[0m\u001b[0;34m(\u001b[0m\u001b[0mname\u001b[0m\u001b[0;34m,\u001b[0m \u001b[0mflags\u001b[0m\u001b[0;34m,\u001b[0m \u001b[0mfapl\u001b[0m\u001b[0;34m=\u001b[0m\u001b[0mfapl\u001b[0m\u001b[0;34m)\u001b[0m\u001b[0;34m\u001b[0m\u001b[0;34m\u001b[0m\u001b[0m\n\u001b[0m\u001b[1;32m    174\u001b[0m     \u001b[0;32melif\u001b[0m \u001b[0mmode\u001b[0m \u001b[0;34m==\u001b[0m \u001b[0;34m'r+'\u001b[0m\u001b[0;34m:\u001b[0m\u001b[0;34m\u001b[0m\u001b[0;34m\u001b[0m\u001b[0m\n\u001b[1;32m    175\u001b[0m         \u001b[0mfid\u001b[0m \u001b[0;34m=\u001b[0m \u001b[0mh5f\u001b[0m\u001b[0;34m.\u001b[0m\u001b[0mopen\u001b[0m\u001b[0;34m(\u001b[0m\u001b[0mname\u001b[0m\u001b[0;34m,\u001b[0m \u001b[0mh5f\u001b[0m\u001b[0;34m.\u001b[0m\u001b[0mACC_RDWR\u001b[0m\u001b[0;34m,\u001b[0m \u001b[0mfapl\u001b[0m\u001b[0;34m=\u001b[0m\u001b[0mfapl\u001b[0m\u001b[0;34m)\u001b[0m\u001b[0;34m\u001b[0m\u001b[0;34m\u001b[0m\u001b[0m\n",
      "\u001b[0;32mh5py/_objects.pyx\u001b[0m in \u001b[0;36mh5py._objects.with_phil.wrapper\u001b[0;34m()\u001b[0m\n",
      "\u001b[0;32mh5py/_objects.pyx\u001b[0m in \u001b[0;36mh5py._objects.with_phil.wrapper\u001b[0;34m()\u001b[0m\n",
      "\u001b[0;32mh5py/h5f.pyx\u001b[0m in \u001b[0;36mh5py.h5f.open\u001b[0;34m()\u001b[0m\n",
      "\u001b[0;31mOSError\u001b[0m: Unable to open file (unable to open file: name = '/srv/cosmdatb/erebos/peng/sims.TNG/TNG300-1/output/../postprocessing/offsets/offsets_098.hdf5', errno = 2, error message = 'No such file or directory', flags = 0, o_flags = 0)"
     ]
    }
   ],
   "source": [
    "import illustris_python1 as il\n",
    "import toycode1 as toy\n",
    "import numpy as np\n",
    "import matplotlib.pyplot as plt\n",
    "import seaborn as sns\n",
    "from scipy import integrate\n",
    "\n",
    "\n",
    "def AgeRedshift(x):\n",
    "    \n",
    "    h =  0.6774\n",
    "    Omega_L0 = 0.6911\n",
    "    Omega_r0 = 0       #4.2 * 10**(-5) / h**2\n",
    "    Omega_m0 = 0.3089\n",
    "    \n",
    "    def E(z):\n",
    "        return np.sqrt(Omega_L0 - Omega_r0*(1+z)**2 + Omega_m0 * (1+z)**3 + Omega_r0*(1+z)**4)\n",
    "        #return np.sqrt(Omega_L0 + Omega_m0 * (1+z)**3 + Omega_r0*(1+z)**4)\n",
    "    def f(z):\n",
    "        return 9.785 / (h*E(z)*(1+z))\n",
    "    \n",
    "\n",
    "    return integrate.quad(lambda z:f(z),x,np.inf)[0]\n",
    "\n",
    "def H_Z_0(z):\n",
    "    Omega_L0 = 0.6911\n",
    "    Omega_m0 = 0.3089\n",
    "    \n",
    "    return np.sqrt(Omega_L0 + Omega_m0*(1+z)**3)\n",
    "\n",
    "def A(z):\n",
    "    \n",
    "    return 1/(1+z)\n",
    "\n",
    "def ratioS_T(basePath,snapNum,ID,a,H_z_0,h=0.6774):\n",
    "    Data    = toy.cirparameter(basePath,snapNum,ID,a,H_z_0)\n",
    "    starNum = len(Data['Masses'])\n",
    "    SpMass  = 0\n",
    "    Data['Masses']   = Data['Masses']/h             \n",
    "    TotalStellarMass = np.sum(Data['Masses'])    \n",
    "    \n",
    "    for i in np.arange(starNum):\n",
    "        if Data['cirPar'][i]<0:\n",
    "            SpMass = SpMass + Data['Masses'][i]*2\n",
    "        elif Data['cirPar'][i]==0:\n",
    "            SpMass = SpMass + Data['Masses'][i]\n",
    "        else:\n",
    "            continue\n",
    "    ratioS_T = SpMass/TotalStellarMass\n",
    "    return ratioS_T\n",
    "\n",
    "SnapRedshift = dict(np.load('/srv/cosmdatb/erebos/yingzhong/selData/data/SnapRedshift.npz'))['Redshift']\n",
    "\n",
    "basePath   = '/srv/cosmdatb/erebos/peng/sims.TNG/TNG300-1/output'\n",
    "snapNum    = 99\n",
    "Fields     = ['SnapNum','SubhaloMassType','SubhaloID','SubfindID','SubhaloBHMass','NextProgenitorID'\n",
    "              ,'MainLeafProgenitorID','Mass','SubhaloMass']\n",
    "Age        = np.zeros(0)\n",
    "S_T        = np.zeros(0)\n",
    "LastMegerT = 0\n",
    "tree       = il.sublink.loadTree(basePath, snapNum, id=1246761, fields=Fields ,onlyMPB=True)\n",
    "for i in np.arange(len(tree['SnapNum'])):\n",
    "    Age = np.append(Age,AgeRedshift(SnapRedshift[tree['SnapNum']][i]))\n",
    "    \n",
    "for i in np.arange(len(tree['SnapNum'])):\n",
    "    basePath   = '/srv/cosmdatb/erebos/peng/sims.TNG/TNG300-1/output'\n",
    "    snapNum = tree['SnapNum'][i]\n",
    "    ID      = tree['SubfindID'][i]\n",
    "    a       = A(SnapRedshift[snapNum])\n",
    "    H_z_0   = H_Z_0(SnapRedshift[snapNum])\n",
    "    S_T = np.append(S_T,ratioS_T(basePath,snapNum,ID,a,H_z_0))\n",
    "    \n",
    "\n",
    "fig,axs = plt.subplots(1,1,sharex=True,sharey=True)\n",
    "#axs.plot(tree['SnapNum'],tree['SubhaloMassType'][:,5],'-')\n",
    "axs.hist(S_T)\n",
    "\n",
    "axs.legend()"
   ]
  },
  {
   "cell_type": "code",
   "execution_count": 99,
   "metadata": {},
   "outputs": [
    {
     "data": {
      "text/plain": [
       "array([507.6002, 503.1308, 494.3075], dtype=float32)"
      ]
     },
     "execution_count": 99,
     "metadata": {},
     "output_type": "execute_result"
    }
   ],
   "source": [
    "tree['SubhaloMassType'][:,1][10:13]"
   ]
  },
  {
   "cell_type": "code",
   "execution_count": 72,
   "metadata": {},
   "outputs": [
    {
     "data": {
      "text/plain": [
       "array([0.02375048, 0.02227037, 0.02218262], dtype=float32)"
      ]
     },
     "execution_count": 72,
     "metadata": {},
     "output_type": "execute_result"
    }
   ],
   "source": [
    "tree['SubhaloBHMass'][10:13]"
   ]
  },
  {
   "cell_type": "code",
   "execution_count": 88,
   "metadata": {},
   "outputs": [
    {
     "data": {
      "text/plain": [
       "array([340000006300004841, 340000006300004547])"
      ]
     },
     "execution_count": 88,
     "metadata": {},
     "output_type": "execute_result"
    }
   ],
   "source": [
    "tree['NextProgenitorID'][11:13]"
   ]
  },
  {
   "cell_type": "code",
   "execution_count": 98,
   "metadata": {},
   "outputs": [
    {
     "data": {
      "text/plain": [
       "array([0.08763541], dtype=float32)"
      ]
     },
     "execution_count": 98,
     "metadata": {},
     "output_type": "execute_result"
    }
   ],
   "source": [
    "tree['SubhaloMassType'][:,1][np.where(tree['SubhaloID']==340000006300004824)]"
   ]
  },
  {
   "cell_type": "code",
   "execution_count": 97,
   "metadata": {},
   "outputs": [
    {
     "data": {
      "text/plain": [
       "array([-1])"
      ]
     },
     "execution_count": 97,
     "metadata": {},
     "output_type": "execute_result"
    }
   ],
   "source": [
    "tree['NextProgenitorID'][np.where(tree['SubhaloID']==340000006300004824)]"
   ]
  },
  {
   "cell_type": "code",
   "execution_count": 102,
   "metadata": {},
   "outputs": [],
   "source": [
    "import h5py\n",
    "import numpy as np\n",
    "r = {}\n",
    "f = h5py.File('/srv/cosmdatb/erebos/peng/sims.TNG/TNG300-1/output/groups_099/fof_subhalo_tab_099.0.hdf5','r')\n"
   ]
  },
  {
   "cell_type": "code",
   "execution_count": 103,
   "metadata": {},
   "outputs": [
    {
     "data": {
      "text/plain": [
       "<KeysViewHDF5 ['Config', 'Group', 'Header', 'IDs', 'Parameters', 'Subhalo']>"
      ]
     },
     "execution_count": 103,
     "metadata": {},
     "output_type": "execute_result"
    }
   ],
   "source": [
    "f.keys()\n"
   ]
  },
  {
   "cell_type": "code",
   "execution_count": 104,
   "metadata": {},
   "outputs": [
    {
     "data": {
      "text/plain": [
       "2.220446049250313e-16"
      ]
     },
     "execution_count": 104,
     "metadata": {},
     "output_type": "execute_result"
    }
   ],
   "source": [
    "f['Header'].attrs['Redshift']"
   ]
  },
  {
   "cell_type": "code",
   "execution_count": 105,
   "metadata": {},
   "outputs": [],
   "source": [
    "f.close()\n"
   ]
  },
  {
   "cell_type": "code",
   "execution_count": 111,
   "metadata": {},
   "outputs": [],
   "source": [
    "import h5py\n",
    "import numpy as np\n",
    "\n",
    "SnapRedshift = {}\n",
    "Redshift = np.zeros(0)\n",
    "for SnapNum in np.arange(100):\n",
    "    if SnapNum < 10:\n",
    "        SnapNum = '0%d' %SnapNum\n",
    "        \n",
    "    else:\n",
    "        SnapNum = '%d' %SnapNum\n",
    "        \n",
    "    with h5py.File('/srv/cosmdatb/erebos/peng/sims.TNG/TNG300-1/output/groups_0%s/fof_subhalo_tab_0%s.0.hdf5' %(SnapNum, SnapNum),\n",
    "                   'r') as f:\n",
    "        Redshift = np.append(Redshift,f['Header'].attrs['Redshift'])\n",
    "            \n",
    "SnapRedshift['Redshift'] = Redshift\n",
    "        \n",
    "        \n",
    "        "
   ]
  },
  {
   "cell_type": "code",
   "execution_count": 115,
   "metadata": {},
   "outputs": [],
   "source": [
    "#np.savez('/srv/cosmdatb/erebos/yingzhong/selData/data/SnapRedshift.npz',Redshift=SnapRedshift['Redshift'])"
   ]
  },
  {
   "cell_type": "code",
   "execution_count": 656,
   "metadata": {},
   "outputs": [],
   "source": [
    "a = np.load('/srv/cosmdatb/erebos/yingzhong/selData/data/SnapRedshift.npz')\n",
    "a = dict(a)"
   ]
  },
  {
   "cell_type": "code",
   "execution_count": 659,
   "metadata": {
    "scrolled": false
   },
   "outputs": [
    {
     "data": {
      "text/plain": [
       "0.023974428382762536"
      ]
     },
     "execution_count": 659,
     "metadata": {},
     "output_type": "execute_result"
    }
   ],
   "source": [
    "a['Redshift'][97]\n"
   ]
  },
  {
   "cell_type": "code",
   "execution_count": 290,
   "metadata": {},
   "outputs": [
    {
     "data": {
      "text/plain": [
       "0.04751385874879561"
      ]
     },
     "execution_count": 290,
     "metadata": {},
     "output_type": "execute_result"
    }
   ],
   "source": [
    "b[0]"
   ]
  },
  {
   "cell_type": "code",
   "execution_count": 134,
   "metadata": {},
   "outputs": [
    {
     "data": {
      "text/plain": [
       "0"
      ]
     },
     "execution_count": 134,
     "metadata": {},
     "output_type": "execute_result"
    }
   ],
   "source": [
    "x = np.array([2,7,2,4])\n",
    "np.argsort(x)[0]"
   ]
  },
  {
   "cell_type": "code",
   "execution_count": 152,
   "metadata": {},
   "outputs": [],
   "source": [
    "import numpy as np\n",
    "import illustris_python1 as il\n",
    "\n",
    "\n",
    "\n",
    "def HalfTime(id):\n",
    "    \n",
    "    def sort(Arr,Num):\n",
    "        Arr   = np.absolute(Arr - Num/2)\n",
    "        index = np.argsort(Arr)[0]\n",
    "    \n",
    "        return index\n",
    "    \n",
    "    basePath = '/srv/cosmdatb/erebos/peng/sims.TNG/TNG300-1/output'\n",
    "    snapNum  = 99\n",
    "    Fields   = ['SnapNum','SubhaloMassType','SubfindID','SubhaloBHMass']\n",
    "    Redshift = dict(np.load('/srv/cosmdatb/erebos/yingzhong/selData/data/SnapRedshift.npz'))['Redshift']\n",
    "    result   = {}\n",
    "    \n",
    "    tree = il.sublink.loadTree(basePath, snapNum, id=id, fields=Fields, onlyMPB=True)\n",
    "    \n",
    "    indexStar = sort(tree['SubhaloMassType'][:,4],tree['SubhaloMassType'][:,4][0])\n",
    "    indexHalo = sort(tree['SubhaloMassType'][:,1],tree['SubhaloMassType'][:,1][0])\n",
    "    indexBH1  = sort(tree['SubhaloMassType'][:,5],tree['SubhaloMassType'][:,5][0])\n",
    "    indexBH   = sort(tree['SubhaloBHMass'],tree['SubhaloBHMass'][0])\n",
    "    \n",
    "    result['RedshiftHalfStar'] = Redshift[tree['SnapNum'][indexStar]]\n",
    "    result['RedshiftHalfHalo'] = Redshift[tree['SnapNum'][indexHalo]]\n",
    "    result['RedshiftHalfBH']   = Redshift[tree['SnapNum'][indexBH]]\n",
    "    result['RedshiftHalfBH1']  = Redshift[tree['SnapNum'][indexBH1]]\n",
    "    \n",
    "    return result\n",
    "    "
   ]
  },
  {
   "cell_type": "code",
   "execution_count": 133,
   "metadata": {},
   "outputs": [
    {
     "data": {
      "text/plain": [
       "array([0.5, 0.5, 2.5, 8.5, 7.5])"
      ]
     },
     "execution_count": 133,
     "metadata": {},
     "output_type": "execute_result"
    }
   ],
   "source": [
    "a = np.array([1,0,-2,9,-7])\n",
    "np.absolute(a-1/2)"
   ]
  },
  {
   "cell_type": "code",
   "execution_count": 153,
   "metadata": {},
   "outputs": [],
   "source": [
    "result = HalfTime(1396176)"
   ]
  },
  {
   "cell_type": "code",
   "execution_count": 154,
   "metadata": {},
   "outputs": [
    {
     "data": {
      "text/plain": [
       "dict_keys(['RedshiftHalfStar', 'RedshiftHalfHalo', 'RedshiftHalfBH', 'RedshiftHalfBH1'])"
      ]
     },
     "execution_count": 154,
     "metadata": {},
     "output_type": "execute_result"
    }
   ],
   "source": [
    "result.keys()\n"
   ]
  },
  {
   "cell_type": "code",
   "execution_count": 224,
   "metadata": {},
   "outputs": [
    {
     "data": {
      "text/plain": [
       "1.4955121664955557"
      ]
     },
     "execution_count": 224,
     "metadata": {},
     "output_type": "execute_result"
    }
   ],
   "source": [
    "result['RedshiftHalfBH']"
   ]
  },
  {
   "cell_type": "code",
   "execution_count": 778,
   "metadata": {
    "scrolled": true
   },
   "outputs": [
    {
     "data": {
      "text/plain": [
       "<matplotlib.legend.Legend at 0x7f32aec413d0>"
      ]
     },
     "execution_count": 778,
     "metadata": {},
     "output_type": "execute_result"
    },
    {
     "data": {
      "image/png": "[encoded data removed]",
      "text/plain": [
       "<Figure size 432x288 with 1 Axes>"
      ]
     },
     "metadata": {
      "needs_background": "light"
     },
     "output_type": "display_data"
    }
   ],
   "source": [
    "import numpy as np\n",
    "import matplotlib.pyplot as plt\n",
    "import seaborn as sns\n",
    "from scipy import integrate\n",
    "\n",
    "def AgeRedshift(x):\n",
    "    \n",
    "    h =  0.6774\n",
    "    Omega_L0 = 0.6911\n",
    "    Omega_r0 = 0       #4.2 * 10**(-5) / h**2\n",
    "    Omega_m0 = 0.3089\n",
    "    \n",
    "    def E(z):\n",
    "        return np.sqrt(Omega_L0 - Omega_r0*(1+z)**2 + Omega_m0 * (1+z)**3 + Omega_r0*(1+z)**4)\n",
    "        #return np.sqrt(Omega_L0 + Omega_m0 * (1+z)**3 + Omega_r0*(1+z)**4)\n",
    "    def f(z):\n",
    "        return 9.785 / (h*E(z)*(1+z))\n",
    "    \n",
    "\n",
    "    return integrate.quad(lambda z:f(z),x,np.inf)[0]\n",
    "\n",
    "HalfRedshiftQuench = dict(np.load('/srv/cosmdatb/erebos/yingzhong/selData/data/Halftime_quench.npz'))\n",
    "HalfRedshiftForm   = dict(np.load('/srv/cosmdatb/erebos/yingzhong/selData/data/Halftime_form.npz'))\n",
    "\n",
    "Str = 'RedshiftHalfHalo'\n",
    "Age_form   = np.zeros(0)\n",
    "Age_quench = np.zeros(0)\n",
    "\n",
    "for i in np.arange(len(HalfRedshiftForm[Str])):\n",
    "    Age_form = np.append(Age_form,AgeRedshift(HalfRedshiftForm[Str][i]))\n",
    "    \n",
    "#Age_form = AgeRedshift(0) - Age_form\n",
    "    \n",
    "for i in np.arange(len(HalfRedshiftQuench[Str])):\n",
    "    Age_quench = np.append(Age_quench,AgeRedshift(HalfRedshiftQuench[Str][i]))\n",
    "    \n",
    "#Age_quench = AgeRedshift(0) - Age_quench\n",
    "\n",
    "median_form   = np.median(Age_form)\n",
    "median_quench = np.median(Age_quench)\n",
    "\n",
    "fig ,axs = plt.subplots()\n",
    "\n",
    "axs = sns.distplot(Age_form,label='$sSFR > 10^{-11}\\ yr^{-1}$ & $S/T<0.25$',\n",
    "                  color='#1f77b4')\n",
    "\n",
    "axs = sns.distplot(Age_quench,label='$sSFR < 10^{-11}\\ yr^{-1}$ & $S/T<0.25$',\n",
    "                   color='#ff7f0e')\n",
    "\n",
    "axs.axvline(median_form,color='k',ls='--',label=r'$\\tau_\\mathrm{{starform}}=%3.1f$' %(median_form))\n",
    "axs.axvline(median_quench,color='k',ls='-.',label=r'$\\tau_\\mathrm{{quench}}=%3.1f$' %(median_quench))\n",
    "axs.set_xlabel(r'$\\tau_{halo}$(Gyr)')\n",
    "axs.legend(fontsize='xx-small')\n",
    "#axs.set_title('%s' %Str)\n",
    "#plt.savefig('/srv/cosmdatb/erebos/yingzhong/fig1/RedshiftHalfHalo',dpi=250)\n",
    "\n"
   ]
  },
  {
   "cell_type": "code",
   "execution_count": 207,
   "metadata": {},
   "outputs": [
    {
     "data": {
      "text/plain": [
       "<matplotlib.legend.Legend at 0x7ff675b2cd60>"
      ]
     },
     "execution_count": 207,
     "metadata": {},
     "output_type": "execute_result"
    },
    {
     "data": {
      "image/png": "[encoded data removed]",
      "text/plain": [
       "<Figure size 432x288 with 1 Axes>"
      ]
     },
     "metadata": {
      "needs_background": "light"
     },
     "output_type": "display_data"
    }
   ],
   "source": [
    "import numpy as np\n",
    "import matplotlib.pyplot as plt\n",
    "import seaborn as sns\n",
    "\n",
    "HalfRedshiftQuench = dict(np.load('/srv/cosmdatb/erebos/yingzhong/selData/data/Halftime_quench.npz'))\n",
    "HalfRedshiftForm   = dict(np.load('/srv/cosmdatb/erebos/yingzhong/selData/data/Halftime_form.npz'))\n",
    "\n",
    "Str = 'RedshiftHalfStar'\n",
    "median_form   = np.median(HalfRedshiftForm[Str])\n",
    "median_quench = np.median(HalfRedshiftQuench[Str])\n",
    "\n",
    "fig, axs = plt.subplots()\n",
    "\n",
    "axs = sns.distplot(HalfRedshiftForm['RedshiftHalfStar'],label='$sSFR > 10^{-11}\\ yr^{-1}$ & $S/T<0.25$')\n",
    "axs = sns.distplot(HalfRedshiftForm['RedshiftHalfHalo'],label='$sSFR > 10^{-11}\\ yr^{-1}$ & $S/T<0.25$')\n",
    "axs = sns.distplot(HalfRedshiftForm['RedshiftHalfBH'],label='$sSFR > 10^{-11}\\ yr^{-1}$ & $S/T<0.25$')\n",
    "'''\n",
    "axs = sns.distplot(HalfRedshiftQuench['RedshiftHalfStar'],label='$sSFR < 10^{-11}\\ yr^{-1}$ & $S/T<0.25$',\n",
    "                   color='#ff7f0e')\n",
    "\n",
    "axs = sns.distplot(HalfRedshiftQuench['RedshiftHalfHalo'],label='$sSFR < 10^{-11}\\ yr^{-1}$ & $S/T<0.25$',\n",
    "                   color='#ff7f0e')\n",
    "axs = sns.distplot(HalfRedshiftQuench['RedshiftHalfBH1'],label='$sSFR < 10^{-11}\\ yr^{-1}$ & $S/T<0.25$',\n",
    "                   color='#ff7f0e')\n",
    "'''\n",
    "axs.axvline(median_form,color='k',ls='--',label='$z_{starform}=%3.1f$' %(median_form))\n",
    "#axs.axvline(median_quench,color='k',ls='-.',label='$z_{quench}=%3.1f$' %(median_quench))\n",
    "axs.set_xlabel('z')\n",
    "axs.legend(fontsize='xx-small')"
   ]
  },
  {
   "cell_type": "code",
   "execution_count": 168,
   "metadata": {},
   "outputs": [
    {
     "data": {
      "text/plain": [
       "dict_keys(['RedshiftHalfStar', 'RedshiftHalfHalo', 'RedshiftHalfBH', 'RedshiftHalfBH1'])"
      ]
     },
     "execution_count": 168,
     "metadata": {},
     "output_type": "execute_result"
    }
   ],
   "source": [
    "HalfRedshiftForm.keys()"
   ]
  },
  {
   "cell_type": "code",
   "execution_count": 169,
   "metadata": {},
   "outputs": [
    {
     "data": {
      "text/plain": [
       "(658,)"
      ]
     },
     "execution_count": 169,
     "metadata": {},
     "output_type": "execute_result"
    }
   ],
   "source": [
    "HalfRedshiftForm['RedshiftHalfStar'].shape"
   ]
  },
  {
   "cell_type": "code",
   "execution_count": 551,
   "metadata": {},
   "outputs": [],
   "source": [
    "# change snapshot to age(Gyr)\n",
    "import numpy as np\n",
    "from scipy import integrate\n",
    "\n",
    "def AgeRedshift(x):\n",
    "    \n",
    "    h =  0.6774\n",
    "    Omega_L0 = 0.6911\n",
    "    Omega_r0 = 0       #4.2 * 10**(-5) / h**2\n",
    "    Omega_m0 = 0.3089\n",
    "    \n",
    "    def E(z):\n",
    "        return np.sqrt(Omega_L0 - Omega_r0*(1+z)**2 + Omega_m0 * (1+z)**3 + Omega_r0*(1+z)**4)\n",
    "        #return np.sqrt(Omega_L0 + Omega_m0 * (1+z)**3 + Omega_r0*(1+z)**4)\n",
    "    def f(z):\n",
    "        return 9.785 / (h*E(z)*(1+z))\n",
    "    \n",
    "\n",
    "    return integrate.quad(lambda z:f(z),x,np.inf)[0]\n",
    "\n",
    "def AgeSnap(Snap):\n",
    "    SnapRedshift = dict(np.load('/srv/cosmdatb/erebos/yingzhong/selData/data/SnapRedshift.npz'))['Redshift']\n",
    "    \n",
    "    return AgeRedshift(SnapRedshift[Snap])"
   ]
  },
  {
   "cell_type": "code",
   "execution_count": 9,
   "metadata": {},
   "outputs": [],
   "source": [
    "# change snapshot to lookbackyear(Gyr)\n",
    "import numpy as np\n",
    "from scipy import integrate\n",
    "\n",
    "def AgeRedshift(x):\n",
    "    \n",
    "    h =  0.6774\n",
    "    Omega_L0 = 0.6911\n",
    "    Omega_r0 = 0       #4.2 * 10**(-5) / h**2\n",
    "    Omega_m0 = 0.3089\n",
    "    \n",
    "    def E(z):\n",
    "        return np.sqrt(Omega_L0 - Omega_r0*(1+z)**2 + Omega_m0 * (1+z)**3 + Omega_r0*(1+z)**4)\n",
    "        #return np.sqrt(Omega_L0 + Omega_m0 * (1+z)**3 + Omega_r0*(1+z)**4)\n",
    "    def f(z):\n",
    "        return 9.785 / (h*E(z)*(1+z))\n",
    "    \n",
    "\n",
    "    return integrate.quad(lambda z:f(z),x,np.inf)[0]\n",
    "\n",
    "def LookBackSnap(Snap):\n",
    "    SnapRedshift = dict(np.load('/srv/cosmdatb/erebos/yingzhong/selData/data/SnapRedshift.npz'))['Redshift']\n",
    "    \n",
    "    return AgeRedshift(0)-AgeRedshift(SnapRedshift[Snap])\n"
   ]
  },
  {
   "cell_type": "code",
   "execution_count": 10,
   "metadata": {},
   "outputs": [
    {
     "data": {
      "text/plain": [
       "2.153411044075233"
      ]
     },
     "execution_count": 10,
     "metadata": {},
     "output_type": "execute_result"
    }
   ],
   "source": [
    "AgeRedshift(3)"
   ]
  },
  {
   "cell_type": "markdown",
   "metadata": {},
   "source": [
    "The following code is aim to show the evolutions of different galaxies which are selected randomly"
   ]
  },
  {
   "cell_type": "code",
   "execution_count": 552,
   "metadata": {},
   "outputs": [],
   "source": [
    "import h5py\n",
    "result = {}\n",
    "with h5py.File('/srv/cosmdatb/erebos/yingzhong/TNG_SupplementaryData/stellar_circs.hdf5','r') as f:\n",
    "    for field in list(f.keys()):\n",
    "        result[field] = {}\n",
    "        \n",
    "    for field in list(f.keys()):\n",
    "        for field1 in list(f[field].keys()):\n",
    "            result[field][field1] = np.array(f[field][field1])\n",
    "\n",
    "DictRatioS_T = result"
   ]
  },
  {
   "cell_type": "code",
   "execution_count": 189,
   "metadata": {},
   "outputs": [],
   "source": [
    "from illustris_python1.util import partTypeNum\n",
    "from illustris_python1.sublink import maxPastMass\n",
    "import numpy as np\n",
    "\n",
    "def Mergers(tree, minMassRatio=1e-10, massPartType='stars', index=0):\n",
    "    \"\"\" Calculate the number of mergers in this sub-tree (optionally above some mass ratio threshold) and \n",
    "    archive the snapnum of the merger. \"\"\"\n",
    "    # verify the input sub-tree has the required fields\n",
    "    reqFields = ['SubhaloID', 'NextProgenitorID', 'MainLeafProgenitorID',\n",
    "                 'FirstProgenitorID', 'SubhaloMassType','SnapNum']\n",
    "\n",
    "    if not set(reqFields).issubset(tree.keys()):\n",
    "        raise Exception('Error: Input tree needs to have loaded fields: '+', '.join(reqFields))\n",
    "\n",
    "    numMergers   = 0\n",
    "    invMassRatio = 1.0 / minMassRatio\n",
    "    Time         = np.zeros(0,dtype=int)\n",
    "    result       = {}\n",
    "\n",
    "    # walk back main progenitor branch\n",
    "    rootID = tree['SubhaloID'][index]\n",
    "    fpID   = tree['FirstProgenitorID'][index]\n",
    "\n",
    "    while fpID != -1:\n",
    "        fpIndex = index + (fpID - rootID)\n",
    "        fpMass  = maxPastMass(tree, fpIndex, massPartType)\n",
    "\n",
    "        # explore breadth\n",
    "        npID = tree['NextProgenitorID'][fpIndex]\n",
    "\n",
    "        while npID != -1:\n",
    "            npIndex = index + (npID - rootID)\n",
    "            npMass  = maxPastMass(tree, npIndex, massPartType)\n",
    "\n",
    "            # count if both masses are non-zero, and ratio exceeds threshold\n",
    "            if fpMass > 0.0 and npMass > 0.0:\n",
    "                ratio = npMass / fpMass\n",
    "\n",
    "                if ratio >= minMassRatio and ratio <= invMassRatio:\n",
    "                    numMergers += 1\n",
    "                    Time       = np.append(Time,tree['SnapNum'][fpIndex-1])\n",
    "\n",
    "            npID = tree['NextProgenitorID'][npIndex]\n",
    "\n",
    "        fpID = tree['FirstProgenitorID'][fpIndex]\n",
    "        \n",
    "    result['numMergers'] = numMergers\n",
    "    result['SnapNum']    = Time\n",
    "\n",
    "    return result"
   ]
  },
  {
   "cell_type": "code",
   "execution_count": 596,
   "metadata": {},
   "outputs": [
    {
     "data": {
      "image/png": "[encoded data removed]",
      "text/plain": [
       "<Figure size 432x288 with 4 Axes>"
      ]
     },
     "metadata": {
      "needs_background": "light"
     },
     "output_type": "display_data"
    }
   ],
   "source": [
    "import illustris_python1 as il\n",
    "import toycode1 as toy\n",
    "import numpy as np\n",
    "import matplotlib.pyplot as plt\n",
    "import seaborn as sns\n",
    "from scipy import integrate\n",
    "\n",
    "def Random(N):\n",
    "    n = 0\n",
    "    result = np.zeros(0,dtype = int)\n",
    "    \n",
    "    while n != 1:\n",
    "        x = np.random.randint(N)\n",
    "        if x not in result:\n",
    "            result = np.append(result,x)\n",
    "            n += 1\n",
    "            \n",
    "    return result\n",
    "\n",
    "def Tree(ID,DictRatioS_T):\n",
    "    \n",
    "    SnapRedshift = dict(np.load('/srv/cosmdatb/erebos/yingzhong/selData/data/SnapRedshift.npz'))['Redshift']\n",
    "    \n",
    "    result     = {}\n",
    "    basePath   = '/srv/cosmdatb/erebos/peng/sims.TNG/TNG300-1/output'\n",
    "    snapNum    = 99\n",
    "    Fields     = ['SnapNum','SubhaloMassType','SubhaloID','SubfindID','SubhaloBHMass','NextProgenitorID'\n",
    "                  ,'MainLeafProgenitorID','Mass','SubhaloMass','FirstProgenitorID']\n",
    "    Age        = np.zeros(0)\n",
    "    S_T        = np.zeros(0)\n",
    "    tree       = il.sublink.loadTree(basePath, snapNum, id=ID, fields=Fields, onlyMPB=True)\n",
    "\n",
    "    for i in np.arange(len(tree['SnapNum'])):\n",
    "        index    = np.where(DictRatioS_T['Snapshot_%d' %(tree['SnapNum'][i])]['SubfindID'] == tree['SubfindID'][i])\n",
    "        ratioS_T = DictRatioS_T['Snapshot_%d' %(tree['SnapNum'][i])]['CircTwiceBelow0Frac'][index]\n",
    "        if len(ratioS_T) == 0:\n",
    "            S_T      = np.append(S_T,0)\n",
    "        else:\n",
    "            S_T      = np.append(S_T,ratioS_T)\n",
    "\n",
    "    '''choose the main branch'''\n",
    "    for field in Fields:\n",
    "        result[field]      = tree[field] # caution: tree['SubhaloMassType'] is a 2D array.\n",
    "        result['ratioS_T'] = S_T\n",
    "        \n",
    "    for i in np.arange(len(result['SnapNum'])):\n",
    "        Age = np.append(Age,AgeSnap(result['SnapNum'][i]))\n",
    "        \n",
    "    result['Age'] = Age\n",
    "\n",
    "    return result\n",
    "\n",
    "\n",
    "\n",
    "h =  0.6774\n",
    "color  = ['#1f77b4', '#ff7f0e']\n",
    "fMmass = dict(np.load('/srv/cosmdatb/erebos/yingzhong/selData/data/result_full_P.npz'))\n",
    "f      = dict(np.load('/srv/cosmdatb/erebos/yingzhong/selData/data/result_025P.npz'))\n",
    "\n",
    "index       = np.intersect1d(np.where(np.array(fMmass['sSFR']) > -11),\n",
    "                             np.where(np.array(fMmass['ratioS_T']) <0.25))\n",
    "StarFormNum = len(fMmass['ID'][index])\n",
    "QuenchNum   = len(f['ID'])\n",
    "num         = [StarFormNum,QuenchNum]\n",
    "\n",
    "StarFormID  = fMmass['ID'][index]\n",
    "QuenchID    = f['ID']\n",
    "\n",
    "fig,axs = plt.subplots(2,2,sharex=True)\n",
    "for i in np.arange(2):\n",
    "    Indeces = Random(num[i])\n",
    "    if i == 0:\n",
    "        IDs = StarFormID[Indeces]\n",
    "    if i == 1:\n",
    "        IDs = QuenchID[Indeces]\n",
    "        \n",
    "    for ID in IDs:\n",
    "        tree = Tree(ID,DictRatioS_T)\n",
    "        tree['SubhaloMassType'] = tree['SubhaloMassType'] * 10**10 /h  # unit: M_{\\odot}\n",
    "        tree['SubhaloBHMass']   = tree['SubhaloBHMass'] * 10**10 /h\n",
    "        \n",
    "        star_0_index = np.where(tree['SubhaloMassType'][:,4]==0)\n",
    "        for index in star_0_index:\n",
    "            tree['SubhaloMassType'][:,4][index] = 10**5\n",
    "            \n",
    "        bh_0_index = np.where(tree['SubhaloBHMass']==0)\n",
    "        for index in bh_0_index:\n",
    "            tree['SubhaloBHMass'][index] = 10**5\n",
    "            \n",
    "        axs[0,0].plot(tree['Age'],tree['ratioS_T'],c=color[i])  #,c=color[i]\n",
    "        axs[0,1].plot(tree['Age'],np.log10(tree['SubhaloBHMass']),c=color[i])\n",
    "        axs[1,0].plot(tree['Age'],np.log10(tree['SubhaloMassType'][:,0]),c=color[i])\n",
    "        axs[1,1].plot(tree['Age'],np.log10(tree['SubhaloMassType'][:,4]),c=color[i])\n",
    "    \n",
    "axs[0,0].set_ylabel('S/T')\n",
    "axs[0,1].set_ylabel('$\\log_{10}(M_{BH}/M_{\\odot})$')\n",
    "axs[1,0].set_ylabel('$\\log_{10}(M_{gas}/M_{\\odot})$')\n",
    "axs[1,1].set_ylabel('$\\log_{10}(M_{star}/M_{\\odot})$')\n",
    "\n",
    "axs[1,0].set_xlabel('Age(Gyr)')\n",
    "axs[1,1].set_xlabel('Age(Gyr)')\n",
    "\n",
    "axs[0,1].yaxis.set_ticks_position('right')\n",
    "axs[1,1].yaxis.set_ticks_position('right')\n",
    "axs[0,1].yaxis.set_label_position('right')\n",
    "axs[1,1].yaxis.set_label_position('right')\n",
    "\n",
    "#plt.savefig('/srv/cosmdatb/erebos/yingzhong/fig1/quench_starform_tree_compare_4',dpi=250)"
   ]
  },
  {
   "cell_type": "code",
   "execution_count": 693,
   "metadata": {},
   "outputs": [],
   "source": [
    "def TreeAve(ID):\n",
    "    \n",
    "    h =  0.6774\n",
    "    def AgeRedshift(x):\n",
    "    \n",
    "        Omega_L0 = 0.6911\n",
    "        Omega_r0 = 0       #4.2 * 10**(-5) / h**2\n",
    "        Omega_m0 = 0.3089\n",
    "\n",
    "        def E(z):\n",
    "            return np.sqrt(Omega_L0 - Omega_r0*(1+z)**2 + Omega_m0 * (1+z)**3 + Omega_r0*(1+z)**4)\n",
    "            #return np.sqrt(Omega_L0 + Omega_m0 * (1+z)**3 + Omega_r0*(1+z)**4)\n",
    "        def f(z):\n",
    "            return 9.785 / (h*E(z)*(1+z))\n",
    "\n",
    "\n",
    "        return integrate.quad(lambda z:f(z),x,np.inf)[0]\n",
    "\n",
    "    \n",
    "    SnapRedshift = dict(np.load('/srv/cosmdatb/erebos/yingzhong/selData/data/SnapRedshift.npz'))['Redshift']\n",
    "    \n",
    "    result     = {}\n",
    "    basePath   = '/srv/cosmdatb/erebos/peng/sims.TNG/TNG300-1/output'\n",
    "    snapNum    = 99\n",
    "    Fields     = ['SnapNum','SubhaloMassType','SubhaloBHMass']\n",
    "    Age        = np.zeros(0)\n",
    "    tree       = il.sublink.loadTree(basePath, snapNum, id=ID, fields=Fields, onlyMPB=True)\n",
    "\n",
    "    tree['SubhaloMassType'] = tree['SubhaloMassType'] * 10**10 /h  # unit: M_{\\odot}\n",
    "    tree['SubhaloBHMass']   = tree['SubhaloBHMass'] * 10**10 /h\n",
    "    \n",
    "    for i in np.arange(len(tree['SnapNum'])):\n",
    "        Age = np.append(Age,AgeRedshift(SnapRedshift[tree['SnapNum']][i]))\n",
    "        \n",
    "    result['M_gas_max']   = np.max(tree['SubhaloMassType'][:,0])    \n",
    "    index                 = np.where(tree['SubhaloMassType'][:,0] == result['M_gas_max'])[0][0] \n",
    "    result['Age_gas_max'] = Age[index]\n",
    "    result['M_star_max']  = tree['SubhaloMassType'][:,4][index]\n",
    "    result['M_bh_max']    = tree['SubhaloBHMass'][index]\n",
    "    \n",
    "    result['M_gas_after']  = np.mean(tree['SubhaloMassType'][0:index+1,0])\n",
    "    result['M_star_after'] = np.mean(tree['SubhaloMassType'][0:index+1,4])\n",
    "    result['M_bh_after']   = np.mean(tree['SubhaloBHMass'][0:index+1])\n",
    "    \n",
    "    result['M_gas_befor']  = np.mean(tree['SubhaloMassType'][index:,0])\n",
    "    result['M_star_befor'] = np.mean(tree['SubhaloMassType'][index:,4])\n",
    "    result['M_bh_befor']   = np.mean(tree['SubhaloBHMass'][index:])\n",
    "    \n",
    "    return result\n"
   ]
  },
  {
   "cell_type": "code",
   "execution_count": 1110,
   "metadata": {},
   "outputs": [
    {
     "data": {
      "text/plain": [
       "98"
      ]
     },
     "execution_count": 1110,
     "metadata": {},
     "output_type": "execute_result"
    }
   ],
   "source": [
    "import illustris_python1 as il\n",
    "\n",
    "basePath   = '/srv/cosmdatb/erebos/peng/sims.TNG/TNG300-1/output'\n",
    "snapNum    = 99\n",
    "Fields     = ['SnapNum','SubhaloMassType','SubhaloBHMass','SubhaloHalfmassRadType']\n",
    "tree = il.sublink.loadTree(basePath, snapNum, id=1354380, fields=Fields, onlyMPB=True)\n",
    "len(tree['SnapNum'])"
   ]
  },
  {
   "cell_type": "code",
   "execution_count": 710,
   "metadata": {},
   "outputs": [
    {
     "data": {
      "text/plain": [
       "658"
      ]
     },
     "execution_count": 710,
     "metadata": {},
     "output_type": "execute_result"
    }
   ],
   "source": [
    "a      = {} \n",
    "fMmass = dict(np.load('/srv/cosmdatb/erebos/yingzhong/selData/data/haveBH.npz'))\n",
    "f      = dict(np.load('/srv/cosmdatb/erebos/yingzhong/selData/data/haveBH_025.npz'))\n",
    "index  = np.intersect1d(np.where(np.array(fMmass['sSFR']) > -11),np.where(np.array(fMmass['ratioS_T']) <0.25))\n",
    "\n",
    "len(fMmass['subHaloID'][index])"
   ]
  },
  {
   "cell_type": "code",
   "execution_count": 578,
   "metadata": {},
   "outputs": [
    {
     "data": {
      "text/plain": [
       "660"
      ]
     },
     "execution_count": 578,
     "metadata": {},
     "output_type": "execute_result"
    }
   ],
   "source": [
    "len(a['ID'])"
   ]
  },
  {
   "cell_type": "code",
   "execution_count": 576,
   "metadata": {},
   "outputs": [
    {
     "data": {
      "text/plain": [
       "array([-10.50392136])"
      ]
     },
     "execution_count": 576,
     "metadata": {},
     "output_type": "execute_result"
    }
   ],
   "source": [
    "ID = 1972089\n",
    "a['sSFR'][np.where(a['ID']==ID)]"
   ]
  },
  {
   "cell_type": "code",
   "execution_count": 273,
   "metadata": {},
   "outputs": [
    {
     "data": {
      "text/plain": [
       "dict_keys(['numMergers', 'SnapNum'])"
      ]
     },
     "execution_count": 273,
     "metadata": {},
     "output_type": "execute_result"
    }
   ],
   "source": [
    "result.keys()"
   ]
  },
  {
   "cell_type": "code",
   "execution_count": 638,
   "metadata": {},
   "outputs": [
    {
     "data": {
      "text/plain": [
       "array([0])"
      ]
     },
     "execution_count": 638,
     "metadata": {},
     "output_type": "execute_result"
    }
   ],
   "source": [
    "import numpy as np\n",
    "def Random(N):\n",
    "    n = 0\n",
    "    result = np.zeros(0,dtype = int)\n",
    "    \n",
    "    while n != 1:\n",
    "        x = np.random.randint(N)\n",
    "        if x not in result:\n",
    "            result = np.append(result,x)\n",
    "            n += 1\n",
    "            \n",
    "    return result\n",
    "\n",
    "Random(10)"
   ]
  },
  {
   "cell_type": "markdown",
   "metadata": {},
   "source": [
    "The distribution of t<sub>max</sub>"
   ]
  },
  {
   "cell_type": "code",
   "execution_count": 563,
   "metadata": {},
   "outputs": [
    {
     "data": {
      "image/png": "[encoded data removed]",
      "text/plain": [
       "<Figure size 432x288 with 1 Axes>"
      ]
     },
     "metadata": {
      "needs_background": "light"
     },
     "output_type": "display_data"
    }
   ],
   "source": [
    "import numpy as np\n",
    "import matplotlib.pyplot as plt\n",
    "import seaborn as sns\n",
    "\n",
    "HistoryForm = dict(np.load('/srv/cosmdatb/erebos/yingzhong/selData/data/History_form.npz'))\n",
    "HistoryQuench = dict(np.load('/srv/cosmdatb/erebos/yingzhong/selData/data/History_quench.npz'))\n",
    "Fields = ['M_gas_max','Age_gas_max','M_star_max','M_bh_max','M_gas_after','M_star_after',\n",
    "         'M_bh_after','M_gas_befor','M_star_befor','M_bh_befor','PresentSubHaloID']\n",
    "\n",
    "Age_gas_max_Form = np.zeros(0)\n",
    "Age_gas_max_Quench = np.zeros(0)\n",
    "\n",
    "'''cut off'''\n",
    "FormIndex   = np.where(np.log10(HistoryForm['M_bh_max']+1)<=6)[0]\n",
    "                             \n",
    "QuenchIndex = np.where(np.log10(HistoryQuench['M_bh_max']+1)<=6)[0]\n",
    "\n",
    "for field in Fields:\n",
    "    HistoryForm[field]   = np.delete(HistoryForm[field],FormIndex)\n",
    "    HistoryQuench[field] = np.delete(HistoryQuench[field],QuenchIndex)\n",
    "    \n",
    "for SnapNum in HistoryForm['Age_gas_max']:\n",
    "    Age_gas_max_Form = np.append(Age_gas_max_Form,AgeSnap(SnapNum))\n",
    "    \n",
    "for SnapNum in HistoryQuench['Age_gas_max']:\n",
    "    Age_gas_max_Quench = np.append(Age_gas_max_Quench,AgeSnap(SnapNum))\n",
    "\n",
    "fig, axs = plt.subplots()\n",
    "\n",
    "axs = sns.distplot(Age_gas_max_Form,label='$sSFR > 10^{-11}\\ yr^{-1}$ & $S/T<0.25$')\n",
    "axs = sns.distplot(Age_gas_max_Quench,label='$sSFR < 10^{-11}\\ yr^{-1}$ & $S/T<0.25$')\n",
    "\n",
    "axs.set_xlabel('$t_{max}$(Gyr)')\n",
    "\n",
    "axs.legend(fontsize='xx-small')\n",
    "#plt.savefig('/srv/cosmdatb/erebos/yingzhong/fig1/t_max\\ M_gas_max',dpi=250)"
   ]
  },
  {
   "cell_type": "code",
   "execution_count": 193,
   "metadata": {},
   "outputs": [
    {
     "data": {
      "text/plain": [
       "<matplotlib.legend.Legend at 0x7f32b85a6910>"
      ]
     },
     "execution_count": 193,
     "metadata": {},
     "output_type": "execute_result"
    },
    {
     "data": {
      "image/png": "[encoded data removed]",
      "text/plain": [
       "<Figure size 432x288 with 1 Axes>"
      ]
     },
     "metadata": {
      "needs_background": "light"
     },
     "output_type": "display_data"
    }
   ],
   "source": [
    "import numpy as np\n",
    "import matplotlib.pyplot as plt\n",
    "import seaborn as sns\n",
    "\n",
    "HistoryForm = dict(np.load('/srv/cosmdatb/erebos/yingzhong/selData/data/History_form.npz'))\n",
    "HistoryQuench = dict(np.load('/srv/cosmdatb/erebos/yingzhong/selData/data/History_quench.npz'))\n",
    "Fields = ['M_gas_max','Age_gas_max','M_star_max','M_bh_max','M_gas_after','M_star_after',\n",
    "         'M_bh_after','M_gas_befor','M_star_befor','M_bh_befor','PresentSubHaloID']\n",
    "Age_gas_max_Form = np.zeros(0)\n",
    "Age_gas_max_Quench = np.zeros(0)\n",
    "\n",
    "'''cut off'''\n",
    "FormIndex   = np.where(np.log10(HistoryForm['M_bh_max']+1)<=6)[0]\n",
    "                             \n",
    "QuenchIndex = np.where(np.log10(HistoryQuench['M_bh_max']+1)<=6)[0]\n",
    "\n",
    "for field in Fields:\n",
    "    HistoryForm[field]   = np.delete(HistoryForm[field],FormIndex)\n",
    "    HistoryQuench[field] = np.delete(HistoryQuench[field],QuenchIndex)\n",
    "    \n",
    "for SnapNum in HistoryForm['Age_gas_max']:\n",
    "    Age_gas_max_Form = np.append(Age_gas_max_Form,AgeSnap(SnapNum))\n",
    "    \n",
    "for SnapNum in HistoryQuench['Age_gas_max']:\n",
    "    Age_gas_max_Quench = np.append(Age_gas_max_Quench,AgeSnap(SnapNum))\n",
    "\n",
    "    \n",
    "fig, axs = plt.subplots()\n",
    "\n",
    "axs.scatter(Age_gas_max_Form,np.log10(HistoryForm['M_gas_max']),s=5,\n",
    "           label='$sSFR > 10^{-11}\\ yr^{-1}$ & $S/T<0.25$')\n",
    "axs.scatter(Age_gas_max_Quench,np.log10(HistoryQuench['M_gas_max']),s=5,\n",
    "           label='$sSFR < 10^{-11}\\ yr^{-1}$ & $S/T<0.25$')\n",
    "\n",
    "axs.set_xlabel('$t_{max} $(Gyr)')\n",
    "axs.set_ylabel('$log_{10} (M_{gas,max}/M_{\\odot}) $')\n",
    "#axs.set_xlabel('Age(Gyr)')\n",
    "axs.legend(fontsize='xx-small')\n",
    "#plt.savefig('/srv/cosmdatb/erebos/yingzhong/fig1/t_max\\ M_gas_max',dpi=250)"
   ]
  },
  {
   "cell_type": "code",
   "execution_count": 428,
   "metadata": {},
   "outputs": [
    {
     "data": {
      "text/plain": [
       "<matplotlib.legend.Legend at 0x7f32b5f51130>"
      ]
     },
     "execution_count": 428,
     "metadata": {},
     "output_type": "execute_result"
    },
    {
     "data": {
      "image/png": "[encoded data removed]",
      "text/plain": [
       "<Figure size 432x288 with 1 Axes>"
      ]
     },
     "metadata": {
      "needs_background": "light"
     },
     "output_type": "display_data"
    }
   ],
   "source": [
    "import numpy as np\n",
    "import matplotlib.pyplot as plt\n",
    "import seaborn as sns\n",
    "\n",
    "HistoryForm = dict(np.load('/srv/cosmdatb/erebos/yingzhong/selData/data/History_form.npz'))\n",
    "HistoryQuench = dict(np.load('/srv/cosmdatb/erebos/yingzhong/selData/data/History_quench.npz'))\n",
    "Fields = ['M_gas_max','Age_gas_max','M_star_max','M_bh_max','M_gas_after','M_star_after',\n",
    "         'M_bh_after','M_gas_befor','M_star_befor','M_bh_befor','PresentSubHaloID']\n",
    "\n",
    "'''cut off'''\n",
    "FormIndex   = np.union1d(np.where(np.log10(HistoryForm['M_bh_max']+1)<=6)[0],\n",
    "                             np.where(np.log10(HistoryForm['M_gas_after']+1)<=10)[0])\n",
    "                             \n",
    "QuenchIndex = np.union1d(np.where(np.log10(HistoryQuench['M_bh_max']+1)<=6)[0],\n",
    "                             np.where(np.log10(HistoryQuench['M_gas_after']+1)<=10)[0])\n",
    "\n",
    "for field in Fields:\n",
    "    HistoryForm[field]   = np.delete(HistoryForm[field],FormIndex)\n",
    "    HistoryQuench[field] = np.delete(HistoryQuench[field],QuenchIndex)\n",
    "\n",
    "fig, axs = plt.subplots()\n",
    "\n",
    "#axs = sns.distplot(np.log10(HistoryForm['M_bh_max']+1),\n",
    "#                   label='$sSFR > 10^{-11}\\ yr^{-1}$ & $S/T<0.25$')\n",
    "#axs = sns.distplot(np.log10(HistoryQuench['M_bh_max']+1),\n",
    "#                   label='$sSFR < 10^{-11}\\ yr^{-1}$ & $S/T<0.25$')\n",
    "axs.scatter(HistoryForm['Age_gas_max'],np.log10(HistoryForm['M_bh_max']+1),s=5,marker='o',\n",
    "           label='$sSFR > 10^{-11}\\ yr^{-1}$ & $S/T<0.25$')\n",
    "axs.scatter(HistoryQuench['Age_gas_max'],np.log10(HistoryQuench['M_bh_max']+1),s=5,marker='o',\n",
    "           label='$sSFR < 10^{-11}\\ yr^{-1}$ & $S/T<0.25$')\n",
    "axs.set_xlabel('$t_{max}$(Gyr)')\n",
    "axs.set_ylabel('$\\log_{10}(M_{bh}/M_{\\odot})$')\n",
    "axs.legend(fontsize='xx-small')\n",
    "#plt.savefig('/srv/cosmdatb/erebos/yingzhong/fig1/t_max\\ M_BH_max',dpi=250)\n"
   ]
  },
  {
   "cell_type": "code",
   "execution_count": 574,
   "metadata": {},
   "outputs": [
    {
     "data": {
      "image/png": "[encoded data removed]",
      "text/plain": [
       "<Figure size 432x288 with 1 Axes>"
      ]
     },
     "metadata": {
      "needs_background": "light"
     },
     "output_type": "display_data"
    }
   ],
   "source": [
    "import numpy as np\n",
    "import matplotlib.pyplot as plt\n",
    "import seaborn as sns\n",
    "\n",
    "HistoryForm = dict(np.load('/srv/cosmdatb/erebos/yingzhong/selData/data/History_form.npz'))\n",
    "HistoryQuench = dict(np.load('/srv/cosmdatb/erebos/yingzhong/selData/data/History_quench.npz'))\n",
    "Fields = ['M_gas_max','Age_gas_max','M_star_max','M_bh_max','M_gas_after','M_star_after',\n",
    "         'M_bh_after','M_gas_befor','M_star_befor','M_bh_befor','PresentSubHaloID']\n",
    "HistoryQuenchEarly = {}\n",
    "HistoryQuenchLate  = {}\n",
    "\n",
    "'''cut off'''\n",
    "\n",
    "FormIndex   = np.where(np.log10(HistoryForm['M_bh_max']+1)<=6)[0]\n",
    "                             \n",
    "QuenchIndex = np.where(np.log10(HistoryQuench['M_bh_max']+1)<=6)[0]\n",
    "\n",
    "for field in Fields:\n",
    "    HistoryForm[field]   = np.delete(HistoryForm[field],FormIndex)\n",
    "    HistoryQuench[field] = np.delete(HistoryQuench[field],QuenchIndex)\n",
    "\n",
    "fig, axs = plt.subplots()\n",
    "\n",
    "axs = sns.distplot(np.log10(HistoryForm['M_gas_max']+1),label='$sSFR > 10^{-11}\\ yr^{-1}$ & $S/T<0.25$',\n",
    "                   color='#1f77b4')\n",
    "axs = sns.distplot(np.log10(HistoryQuench['M_gas_max']+1),label='$sSFR < 10^{-11}\\ yr^{-1}$ & $S/T<0.25$',\n",
    "                   color='#ff7f0e')\n",
    "axs.legend(fontsize='xx-small')\n",
    "axs.set_xlabel('$\\log_{10}(M_{gas,max}/M_{\\odot})$')\n",
    "#plt.savefig('/srv/cosmdatb/erebos/yingzhong/fig1/M_gas_max',dpi=250)"
   ]
  },
  {
   "cell_type": "code",
   "execution_count": 200,
   "metadata": {},
   "outputs": [
    {
     "data": {
      "text/plain": [
       "77.0"
      ]
     },
     "execution_count": 200,
     "metadata": {},
     "output_type": "execute_result"
    }
   ],
   "source": [
    "T_0"
   ]
  },
  {
   "cell_type": "code",
   "execution_count": 1337,
   "metadata": {},
   "outputs": [
    {
     "data": {
      "text/plain": [
       "dict_keys(['M_gas_max', 'Age_gas_max', 'M_star_max', 'M_bh_max', 'M_gas_after', 'M_star_after', 'M_bh_after', 'M_gas_befor', 'M_star_befor', 'M_bh_befor', 'PresentSubHaloID'])"
      ]
     },
     "execution_count": 1337,
     "metadata": {},
     "output_type": "execute_result"
    }
   ],
   "source": [
    "HistoryQuenchLate.keys()"
   ]
  },
  {
   "cell_type": "code",
   "execution_count": 1139,
   "metadata": {},
   "outputs": [],
   "source": [
    "import numpy as np\n",
    "a = np.array([1,2,3,4])\n",
    "b = np.array([5,6,7,8])\n",
    "c = np.vstack((a,b))"
   ]
  },
  {
   "cell_type": "code",
   "execution_count": 1148,
   "metadata": {},
   "outputs": [
    {
     "data": {
      "text/plain": [
       "True"
      ]
     },
     "execution_count": 1148,
     "metadata": {},
     "output_type": "execute_result"
    }
   ],
   "source": [
    "d = a[np.where(a<0)]\n",
    "np.append(a,8)\n",
    "'sa' == 'sa'"
   ]
  },
  {
   "cell_type": "code",
   "execution_count": 1249,
   "metadata": {},
   "outputs": [],
   "source": [
    "import numpy as np\n",
    "import illustris_python1 as il\n",
    "\n",
    "def FindOmit(ID):\n",
    "    basePath = '/srv/cosmdatb/erebos/peng/sims.TNG/TNG300-1/output'\n",
    "    snapNum  = 99\n",
    "    Fields = ['SnapNum','SubhaloMassType','SubhaloBHMass','SubhaloHalfmassRadType']\n",
    "    Index  = np.zeros(0,dtype=int)\n",
    "    for Id in ID:\n",
    "        tree = il.sublink.loadTree(basePath, snapNum, id=Id, fields=Fields, onlyMPB=True)\n",
    "        insertIndex = np.zeros(0,dtype=int)\n",
    "        for i in np.arange(len(tree['SnapNum'])-1):\n",
    "            if tree['SnapNum'][i]-tree['SnapNum'][i+1]==2:\n",
    "                insertIndex = np.append(insertIndex,i+1)\n",
    "        if len(insertIndex)!= 0:\n",
    "             Index = np.append(Index,Id)\n",
    "    \n",
    "    return Index\n",
    "\n",
    "fMmass = dict(np.load('/srv/cosmdatb/erebos/yingzhong/selData/data/haveBH.npz'))\n",
    "f      = dict(np.load('/srv/cosmdatb/erebos/yingzhong/selData/data/haveBH_025.npz'))\n",
    "index  = np.intersect1d(np.where(np.array(fMmass['sSFR']) > -11),np.where(np.array(fMmass['ratioS_T']) <0.25))\n",
    "ID1    = f['subHaloID']\n",
    "ID2    = fMmass['subHaloID'][index]\n",
    "\n",
    "IdArr  = FindOmit(ID1)"
   ]
  },
  {
   "cell_type": "code",
   "execution_count": 1250,
   "metadata": {},
   "outputs": [
    {
     "data": {
      "text/plain": [
       "array([1840627, 1367418, 1683031, 1649817, 1675919, 1575332, 1642256,\n",
       "       1443561, 1811506, 1494476, 1684515, 1411487, 1693325, 1587871,\n",
       "       1614858, 1457059, 1759501, 1808498, 1738336, 1863531, 1899322,\n",
       "       1766192, 1564230, 1625213, 1734385, 1739730, 1545587, 1608927,\n",
       "       1416474, 1520083, 1681638, 1620591, 1678957, 1680871, 1639733,\n",
       "       1536646, 1801902, 1539576, 1787790, 1742596, 1620908, 1707091,\n",
       "       1787074, 1795034, 1746909])"
      ]
     },
     "execution_count": 1250,
     "metadata": {},
     "output_type": "execute_result"
    }
   ],
   "source": [
    "IdArr"
   ]
  },
  {
   "cell_type": "code",
   "execution_count": 1266,
   "metadata": {
    "scrolled": true
   },
   "outputs": [
    {
     "data": {
      "text/plain": [
       "8"
      ]
     },
     "execution_count": 1266,
     "metadata": {},
     "output_type": "execute_result"
    }
   ],
   "source": [
    "import numpy as np\n",
    "import illustris_python1 as il\n",
    "\n",
    "basePath = '/srv/cosmdatb/erebos/peng/sims.TNG/TNG300-1/output'\n",
    "snapNum  = 99\n",
    "Fields = ['SnapNum','SubhaloMassType','SubhaloBHMass','SubhaloHalfmassRadType']\n",
    "tree = il.sublink.loadTree(basePath, snapNum, id=1707091, fields=Fields, onlyMPB=True)\n",
    "insertIndex = np.zeros(0,dtype=int)\n",
    "\n",
    "for i in np.arange(len(tree['SnapNum'])-1):\n",
    "    if tree['SnapNum'][i]-tree['SnapNum'][i+1]==2:\n",
    "        insertIndex = np.append(insertIndex,i+1)\n",
    "tree['SnapNum'][insertIndex[0]]"
   ]
  },
  {
   "cell_type": "code",
   "execution_count": 1267,
   "metadata": {},
   "outputs": [
    {
     "data": {
      "text/plain": [
       "array([99, 98, 97, 96, 95, 94, 93, 92, 91, 90, 89, 88, 87, 86, 85, 84, 83,\n",
       "       82, 81, 80, 79, 78, 77, 76, 75, 74, 73, 72, 71, 70, 69, 68, 67, 66,\n",
       "       65, 64, 63, 62, 61, 60, 59, 58, 57, 56, 55, 54, 53, 52, 51, 50, 49,\n",
       "       48, 47, 46, 45, 44, 43, 42, 41, 40, 39, 38, 37, 36, 35, 34, 33, 32,\n",
       "       31, 30, 29, 28, 27, 26, 25, 24, 23, 22, 21, 20, 19, 18, 17, 16, 15,\n",
       "       14, 13, 12, 11, 10,  8,  7,  6,  5,  4,  3,  2], dtype=int16)"
      ]
     },
     "execution_count": 1267,
     "metadata": {},
     "output_type": "execute_result"
    }
   ],
   "source": [
    "tree['SnapNum']"
   ]
  },
  {
   "cell_type": "code",
   "execution_count": 1276,
   "metadata": {},
   "outputs": [
    {
     "data": {
      "text/plain": [
       "array([99, 98, 97, 96, 95, 94, 93, 92, 91, 90, 89, 88, 87, 86, 85, 84, 83,\n",
       "       82, 81, 80, 79, 78, 77, 76, 75, 74, 73, 72, 71, 70, 69, 68, 67, 66,\n",
       "       65, 64, 63, 62, 61, 60, 59, 58, 57, 56, 55, 54, 53, 52, 51, 50, 49,\n",
       "       48, 47, 46, 45, 44, 43, 42, 41, 40, 39, 38, 37, 36, 35, 34, 33, 32,\n",
       "       31, 30, 29, 28, 27, 26, 25, 24, 23, 22, 21, 20, 19, 18, 17, 16, 15,\n",
       "       14, 13, 12, 11, 10,  8,  7,  6,  5,  4,  3,  2])"
      ]
     },
     "execution_count": 1276,
     "metadata": {},
     "output_type": "execute_result"
    }
   ],
   "source": [
    "Median(ID=[1707091])['SnapNum']"
   ]
  },
  {
   "cell_type": "code",
   "execution_count": 132,
   "metadata": {},
   "outputs": [],
   "source": [
    "import numpy as np\n",
    "import illustris_python1 as il\n",
    "from scipy import integrate\n",
    "\n",
    "'''Median(ID): get the median number of the StarMass, bhMass and Re of some galaxies at every snapshot'''\n",
    "\n",
    "def Median(ID):\n",
    "    \n",
    "    h =  0.6774\n",
    "    def AgeRedshift(x):\n",
    "    \n",
    "        Omega_L0 = 0.6911\n",
    "        Omega_r0 = 0       #4.2 * 10**(-5) / h**2\n",
    "        Omega_m0 = 0.3089\n",
    "\n",
    "        def E(z):\n",
    "            return np.sqrt(Omega_L0 - Omega_r0*(1+z)**2 + Omega_m0 * (1+z)**3 + Omega_r0*(1+z)**4)\n",
    "            #return np.sqrt(Omega_L0 + Omega_m0 * (1+z)**3 + Omega_r0*(1+z)**4)\n",
    "        def f(z):\n",
    "            return 9.785 / (h*E(z)*(1+z))\n",
    "    \n",
    "\n",
    "        return integrate.quad(lambda z:f(z),x,np.inf)[0]\n",
    "\n",
    "    result   = {'SnapNum':np.zeros(0,dtype=int),'MstarMedian':np.zeros(0),\n",
    "               'ReMedian':np.zeros(0),'MbhMedian':np.zeros(0),'MgasMedian':np.zeros(0)}\n",
    "    Names    = ['MstarMedian','MbhMedian','ReMedian','MgasMedian']\n",
    "    Arr      = {} \n",
    "    Age      = np.zeros(0)\n",
    "    basePath = '/srv/cosmdatb/erebos/peng/sims.TNG/TNG300-1/output'\n",
    "    snapNum  = 99\n",
    "    Fields   = ['SnapNum','SubhaloMassType','SubhaloBHMass','SubhaloHalfmassRadType']\n",
    "    SnapRedshift = dict(np.load('/srv/cosmdatb/erebos/yingzhong/selData/data/SnapRedshift.npz'))['Redshift']\n",
    "    for name in Names:\n",
    "        Arr[name] = -1*np.ones(100)\n",
    "    \n",
    "    '''vstack every tree'''\n",
    "    for Id in ID:\n",
    "        tree        = il.sublink.loadTree(basePath, snapNum, id=Id, fields=Fields, onlyMPB=True)\n",
    "        TreeArr     = {}\n",
    "        insertIndex = np.zeros(0,dtype=int)\n",
    "        \n",
    "        for i in np.arange(4):\n",
    "            if i == 1:\n",
    "                dataArr = tree[Fields[i+1]]\n",
    "            elif i == 3:\n",
    "                dataArr = tree[Fields[1]][:,0]\n",
    "            else:\n",
    "                dataArr = tree[Fields[i+1]][:,4]\n",
    "                \n",
    "            TreeArr[Names[i]] = dataArr     \n",
    "\n",
    "        for i in np.arange(len(tree['SnapNum'])-1):\n",
    "            if tree['SnapNum'][i]-tree['SnapNum'][i+1]==2:\n",
    "                insertIndex = np.append(insertIndex,i+1)\n",
    "                \n",
    "        if len(insertIndex)!=0:\n",
    "            for i in np.arange(4):\n",
    "                if i == 1:\n",
    "                    dataArr = tree[Fields[i+1]]\n",
    "                elif i == 3:\n",
    "                    dataArr = tree[Fields[1]][:,0]\n",
    "                else:\n",
    "                    dataArr = tree[Fields[i+1]][:,4]\n",
    "                    \n",
    "                TreeArr[Names[i]] = np.append(dataArr[0:insertIndex[0]],-1)\n",
    "                for j in np.arange(len(insertIndex)-1):\n",
    "                    intermediaArr     = np.append(dataArr[insertIndex[j]:insertIndex[j+1]],-1)\n",
    "                    TreeArr[Names[i]] = np.append(TreeArr[Names[i]],intermediaArr)\n",
    "                TreeArr[Names[i]] = np.append(TreeArr[Names[i]],dataArr[insertIndex[-1]:])\n",
    "\n",
    "        add = -1*np.ones(100-len(TreeArr['MstarMedian']))\n",
    "        for i in np.arange(4):\n",
    "            TreeArr[Names[i]] = np.append(TreeArr[Names[i]],add)     \n",
    "            Arr[Names[i]]     = np.vstack((Arr[Names[i]],TreeArr[Names[i]]))\n",
    "    '''get the median'''\n",
    "    for i in np.arange(100):\n",
    "        for name in Names:\n",
    "            Poindex = np.where(Arr[name][:,i]>=0)\n",
    "            RealArr = Arr[name][:,i][Poindex]\n",
    "            if len(RealArr) == 0:\n",
    "                break\n",
    "            if name == 'MstarMedian':\n",
    "                result['SnapNum']  = np.append(result['SnapNum'],99-i)\n",
    "            result[name] = np.append(result[name],np.median(RealArr))\n",
    "            \n",
    "    '''unification'''\n",
    "    result['MstarMedian'] = result['MstarMedian']/result['MstarMedian'][0]\n",
    "    result['MbhMedian']   = result['MbhMedian']/result['MbhMedian'][0]\n",
    "    result['MgasMedian']  = result['MgasMedian']/result['MgasMedian'][0]\n",
    "    \n",
    "    ScaleFactor        = 1/(1+SnapRedshift[result['SnapNum']])\n",
    "    result['ReMedian'] = result['ReMedian'] * ScaleFactor\n",
    "    result['ReMedian'] = result['ReMedian']/result['ReMedian'][0]\n",
    "    \n",
    "    for i in np.arange(len(result['SnapNum'])):\n",
    "        Age = np.append(Age,AgeRedshift(SnapRedshift[result['SnapNum']][i]))\n",
    "    \n",
    "    result['LookBackTime'] = AgeRedshift(0) - Age\n",
    "\n",
    "    return result"
   ]
  },
  {
   "cell_type": "code",
   "execution_count": 137,
   "metadata": {},
   "outputs": [],
   "source": [
    "import numpy as np\n",
    "import illustris_python1 as il\n",
    "from scipy import integrate\n",
    "\n",
    "'''Median(ID): get the median number of the StarMass, bhMass and Re,sSFR,gas of some galaxies at every snapshot'''\n",
    "\n",
    "def Median(ID):\n",
    "    \n",
    "    h =  0.6774\n",
    "    def AgeRedshift(x):\n",
    "    \n",
    "        Omega_L0 = 0.6911\n",
    "        Omega_r0 = 0       #4.2 * 10**(-5) / h**2\n",
    "        Omega_m0 = 0.3089\n",
    "\n",
    "        def E(z):\n",
    "            return np.sqrt(Omega_L0 - Omega_r0*(1+z)**2 + Omega_m0 * (1+z)**3 + Omega_r0*(1+z)**4)\n",
    "            #return np.sqrt(Omega_L0 + Omega_m0 * (1+z)**3 + Omega_r0*(1+z)**4)\n",
    "        def f(z):\n",
    "            return 9.785 / (h*E(z)*(1+z))\n",
    "    \n",
    "\n",
    "        return integrate.quad(lambda z:f(z),x,np.inf)[0]\n",
    "\n",
    "    result   = {'SnapNum':np.zeros(0,dtype=int),'MstarMedian':np.zeros(0),\n",
    "               'ReMedian':np.zeros(0),'MbhMedian':np.zeros(0),'MgasMedian':np.zeros(0),\n",
    "               'sSFRMedian':np.zeros(0),'MhaloMedian':np.zeros(0)}\n",
    "    Names    = ['MstarMedian','MbhMedian','ReMedian','MgasMedian','sSFRMedian','MhaloMedian']\n",
    "    Arr      = {} \n",
    "    Age      = np.zeros(0)\n",
    "    basePath = '/srv/cosmdatb/erebos/peng/sims.TNG/TNG300-1/output'\n",
    "    snapNum  = 99\n",
    "    Fields   = ['SnapNum','SubhaloMassType','SubhaloBHMass','SubhaloHalfmassRadType','SubhaloSFR']\n",
    "    SnapRedshift = dict(np.load('/srv/cosmdatb/erebos/yingzhong/selData/data/SnapRedshift.npz'))['Redshift']\n",
    "    for name in Names:\n",
    "        Arr[name] = -1*np.ones(100)\n",
    "    \n",
    "    '''vstack every tree'''\n",
    "    for Id in ID:\n",
    "        tree        = il.sublink.loadTree(basePath, snapNum, id=Id, fields=Fields, onlyMPB=True)\n",
    "        TreeArr     = {}\n",
    "        insertIndex = np.zeros(0,dtype=int)\n",
    "        \n",
    "        for i in np.arange(6):\n",
    "            if i == 1:\n",
    "                dataArr = tree[Fields[i+1]]\n",
    "            elif i == 3:\n",
    "                dataArr = tree[Fields[1]][:,0]\n",
    "            elif i == 5:\n",
    "                dataArr = tree['SubhaloMassType'][:,1]\n",
    "            elif i == 4:\n",
    "                MstarArr = tree['SubhaloMassType'][:,4]\n",
    "                Mstar_0_Index = np.where(MstarArr==0)[0]\n",
    "                for index in Mstar_0_Index:\n",
    "                    MstarArr[index] = 1\n",
    "                dataArr = tree['SubhaloSFR']/MstarArr   #unit: yr^{-1}(10^{10}/h)^{-1}\n",
    "                for index in Mstar_0_Index:\n",
    "                    dataArr[index] = 0\n",
    "                    MstarArr[index] = 0\n",
    "            else:\n",
    "                dataArr = tree[Fields[i+1]][:,4]\n",
    "                \n",
    "            TreeArr[Names[i]] = dataArr     \n",
    "\n",
    "        for i in np.arange(len(tree['SnapNum'])-1):\n",
    "            if tree['SnapNum'][i]-tree['SnapNum'][i+1]==2:\n",
    "                insertIndex = np.append(insertIndex,i+1)\n",
    "                \n",
    "        if len(insertIndex)!=0:\n",
    "            for i in np.arange(6):\n",
    "                if i == 1:\n",
    "                    dataArr = tree[Fields[i+1]]\n",
    "                elif i == 3:\n",
    "                    dataArr = tree[Fields[1]][:,0]\n",
    "                elif i == 5:\n",
    "                    dataArr = tree['SubhaloMassType'][:,1]\n",
    "                elif i == 4:\n",
    "                    MstarArr = tree['SubhaloMassType'][:,4]\n",
    "                    Mstar_0_Index = np.where(MstarArr==0)[0]\n",
    "                    for index in Mstar_0_Index:\n",
    "                        MstarArr[index] = 1\n",
    "                    dataArr = tree['SubhaloSFR']/MstarArr   #unit: yr^{-1}(10^{10}/h)^{-1}\n",
    "                    for index in Mstar_0_Index:\n",
    "                        dataArr[index] = 0\n",
    "                        MstarArr[index] = 0\n",
    "                else:\n",
    "                    dataArr = tree[Fields[i+1]][:,4]\n",
    "                    \n",
    "                TreeArr[Names[i]] = np.append(dataArr[0:insertIndex[0]],-1)\n",
    "                for j in np.arange(len(insertIndex)-1):\n",
    "                    intermediaArr     = np.append(dataArr[insertIndex[j]:insertIndex[j+1]],-1)\n",
    "                    TreeArr[Names[i]] = np.append(TreeArr[Names[i]],intermediaArr)\n",
    "                TreeArr[Names[i]] = np.append(TreeArr[Names[i]],dataArr[insertIndex[-1]:])\n",
    "\n",
    "        add = -1*np.ones(100-len(TreeArr['MstarMedian']))\n",
    "        for i in np.arange(6):\n",
    "            TreeArr[Names[i]] = np.append(TreeArr[Names[i]],add)     \n",
    "            Arr[Names[i]]     = np.vstack((Arr[Names[i]],TreeArr[Names[i]]))\n",
    "    '''get the median'''\n",
    "    for i in np.arange(100):\n",
    "        for name in Names:\n",
    "            Poindex = np.where(Arr[name][:,i]>=0)\n",
    "            RealArr = Arr[name][:,i][Poindex]\n",
    "            if len(RealArr) == 0:\n",
    "                break\n",
    "            if name == 'MstarMedian':\n",
    "                result['SnapNum']  = np.append(result['SnapNum'],99-i)\n",
    "            result[name] = np.append(result[name],np.median(RealArr))\n",
    "            \n",
    "    '''changing units'''\n",
    "    result['MstarMedian'] = (result['MstarMedian'] * 10**10) / h\n",
    "    result['MbhMedian']   = (result['MbhMedian'] * 10**10) / h \n",
    "    result['MgasMedian']  = (result['MgasMedian'] * 10**10) / h\n",
    "    result['MhaloMedian'] = (result['MhaloMedian'] * 10**10) / h\n",
    "    result['sSFRMedian']  = (result['sSFRMedian'] * h) / 10**10\n",
    "    \n",
    "    ScaleFactor        = 1/(1+SnapRedshift[result['SnapNum']])\n",
    "    result['ReMedian'] = result['ReMedian'] * ScaleFactor\n",
    "    result['ReMedian'] = result['ReMedian'] / h\n",
    "    \n",
    "    for i in np.arange(len(result['SnapNum'])):\n",
    "        Age = np.append(Age,AgeRedshift(SnapRedshift[result['SnapNum']][i]))\n",
    "    \n",
    "    result['Age'] = Age\n",
    "\n",
    "    return result\n",
    "\n"
   ]
  },
  {
   "cell_type": "markdown",
   "metadata": {},
   "source": [
    "calculate the median and 'error'(20% and 80%)"
   ]
  },
  {
   "cell_type": "code",
   "execution_count": 116,
   "metadata": {},
   "outputs": [],
   "source": [
    "import numpy as np\n",
    "import illustris_python1 as il\n",
    "from scipy import integrate\n",
    "\n",
    "'''percent(ID): get the 20% 50%(median) and 80% percentile number of the StarMass, bhMass and Re,sSFR,gas of some galaxies at every snapshot'''\n",
    "\n",
    "def percent(ID):\n",
    "    \n",
    "    h =  0.6774\n",
    "    def AgeRedshift(x):\n",
    "    \n",
    "        Omega_L0 = 0.6911\n",
    "        Omega_r0 = 0       #4.2 * 10**(-5) / h**2\n",
    "        Omega_m0 = 0.3089\n",
    "\n",
    "        def E(z):\n",
    "            return np.sqrt(Omega_L0 - Omega_r0*(1+z)**2 + Omega_m0 * (1+z)**3 + Omega_r0*(1+z)**4)\n",
    "            #return np.sqrt(Omega_L0 + Omega_m0 * (1+z)**3 + Omega_r0*(1+z)**4)\n",
    "        def f(z):\n",
    "            return 9.785 / (h*E(z)*(1+z))\n",
    "    \n",
    "\n",
    "        return integrate.quad(lambda z:f(z),x,np.inf)[0]\n",
    "\n",
    "    \n",
    "    Names    = ['Mstar','Mbh','Re','Mgas','sSFR','Mhalo']\n",
    "    result   = dict.fromkeys(Names,np.zeros([3,0]))\n",
    "    \n",
    "    result['SnapNum'] = np.zeros(0,dtype=int)\n",
    "    \n",
    "    percent  = [10,50,90]\n",
    "\n",
    "    Arr      = {} \n",
    "    Age      = np.zeros(0)\n",
    "    basePath = '/srv/cosmdatb/erebos/peng/sims.TNG/TNG300-1/output'\n",
    "    snapNum  = 99\n",
    "    Fields   = ['SnapNum','SubhaloMassType','SubhaloBHMass','SubhaloHalfmassRadType','SubhaloSFR']\n",
    "    SnapRedshift = dict(np.load('/srv/cosmdatb/erebos/yingzhong/selData/data/SnapRedshift.npz'))['Redshift']\n",
    "    for name in Names:\n",
    "        Arr[name] = -1*np.ones(100)\n",
    "    \n",
    "    '''vstack every tree'''\n",
    "    for Id in ID:\n",
    "        tree        = il.sublink.loadTree(basePath, snapNum, id=Id, fields=Fields, onlyMPB=True)\n",
    "        TreeArr     = {}\n",
    "        insertIndex = np.zeros(0,dtype=int)\n",
    "        \n",
    "        for i in np.arange(6):\n",
    "            if i == 1:\n",
    "                dataArr = tree[Fields[i+1]]\n",
    "            elif i == 3:\n",
    "                dataArr = tree[Fields[1]][:,0]\n",
    "            elif i == 5:\n",
    "                dataArr = tree['SubhaloMassType'][:,1]\n",
    "            elif i == 4:\n",
    "                MstarArr = tree['SubhaloMassType'][:,4]\n",
    "                Mstar_0_Index = np.where(MstarArr==0)[0]\n",
    "                for index in Mstar_0_Index:\n",
    "                    MstarArr[index] = 1\n",
    "                dataArr = tree['SubhaloSFR']/MstarArr   #unit: yr^{-1}(10^{10}/h)^{-1}\n",
    "                for index in Mstar_0_Index:\n",
    "                    dataArr[index] = 0\n",
    "                    MstarArr[index] = 0\n",
    "            else:\n",
    "                dataArr = tree[Fields[i+1]][:,4]\n",
    "                \n",
    "            TreeArr[Names[i]] = dataArr     \n",
    "\n",
    "        for i in np.arange(len(tree['SnapNum'])-1):\n",
    "            if tree['SnapNum'][i]-tree['SnapNum'][i+1]==2:\n",
    "                insertIndex = np.append(insertIndex,i+1)\n",
    "                \n",
    "        if len(insertIndex)!=0:\n",
    "            for i in np.arange(6):\n",
    "                if i == 1:\n",
    "                    dataArr = tree[Fields[i+1]]\n",
    "                elif i == 3:\n",
    "                    dataArr = tree[Fields[1]][:,0]\n",
    "                elif i == 5:\n",
    "                    dataArr = tree['SubhaloMassType'][:,1]\n",
    "                elif i == 4:\n",
    "                    MstarArr = tree['SubhaloMassType'][:,4]\n",
    "                    Mstar_0_Index = np.where(MstarArr==0)[0]\n",
    "                    for index in Mstar_0_Index:\n",
    "                        MstarArr[index] = 1\n",
    "                    dataArr = tree['SubhaloSFR']/MstarArr   #unit: yr^{-1}(10^{10}/h)^{-1}\n",
    "                    for index in Mstar_0_Index:\n",
    "                        dataArr[index] = 0\n",
    "                        MstarArr[index] = 0\n",
    "                else:\n",
    "                    dataArr = tree[Fields[i+1]][:,4]\n",
    "                    \n",
    "                TreeArr[Names[i]] = np.append(dataArr[0:insertIndex[0]],-1)\n",
    "                for j in np.arange(len(insertIndex)-1):\n",
    "                    intermediaArr     = np.append(dataArr[insertIndex[j]:insertIndex[j+1]],-1)\n",
    "                    TreeArr[Names[i]] = np.append(TreeArr[Names[i]],intermediaArr)\n",
    "                TreeArr[Names[i]] = np.append(TreeArr[Names[i]],dataArr[insertIndex[-1]:])\n",
    "\n",
    "        add = -1*np.ones(100-len(TreeArr['Mstar']))\n",
    "        for i in np.arange(6):\n",
    "            TreeArr[Names[i]] = np.append(TreeArr[Names[i]],add)     \n",
    "            Arr[Names[i]]     = np.vstack((Arr[Names[i]],TreeArr[Names[i]]))\n",
    "            \n",
    "    '''get the percentile'''\n",
    "    #print(Arr['Re'].shape)\n",
    "    for i in np.arange(100):\n",
    "        for name in Names:\n",
    "            Poindex = np.where(Arr[name][:,i]>=0)\n",
    "            RealArr = Arr[name][:,i][Poindex]\n",
    "            if len(RealArr) == 0:\n",
    "                break\n",
    "            if name == 'Mstar':\n",
    "                result['SnapNum']  = np.append(result['SnapNum'],99-i)\n",
    "            \n",
    "            result[name] = np.append(result[name],[[np.percentile(RealArr,percent[0])],\n",
    "                                                   [np.percentile(RealArr,percent[1])],\n",
    "                                                   [np.percentile(RealArr,percent[2])]],axis=1)\n",
    "            \n",
    "    '''changing units'''\n",
    "    ScaleFactor = 1/(1+SnapRedshift[result['SnapNum']])\n",
    "    #print(len(result['Mstar'][0]))\n",
    "   \n",
    "    result['Mstar'] = (result['Mstar'] * 10**10) / h\n",
    "    result['Mbh']   = (result['Mbh'] * 10**10) / h \n",
    "    result['Mgas']  = (result['Mgas'] * 10**10) / h\n",
    "    result['Mhalo'] = (result['Mhalo'] * 10**10) / h\n",
    "    result['sSFR']  = (result['sSFR'] * h) / 10**10\n",
    "\n",
    "    result['Re'] = result['Re'] * ScaleFactor\n",
    "    result['Re'] = result['Re'] / h\n",
    "    \n",
    "    for i in np.arange(len(result['SnapNum'])):\n",
    "        Age = np.append(Age,AgeRedshift(SnapRedshift[result['SnapNum']][i]))\n",
    "    \n",
    "    result['Age'] = Age\n",
    "\n",
    "    return result\n",
    "\n"
   ]
  },
  {
   "cell_type": "code",
   "execution_count": 101,
   "metadata": {},
   "outputs": [],
   "source": [
    "Names    = ['Mstar','Mbh','Re','Mgas','sSFR','Mhalo']\n",
    "result   = dict.fromkeys(Names,np.zeros([3,0]))\n",
    "RealArr  = dict.fromkeys(Names,np.arange(100).reshape(10,10))\n",
    "\n",
    "for i in np.arange(10):\n",
    "    for name in Names:\n",
    "        result[name] = np.append(result[name],[[np.percentile(RealArr[name][:,i],20)],[np.percentile(RealArr[name][:,i],50)],\n",
    "                                              [np.percentile(RealArr[name][:,i],80)]],axis=1)\n",
    "        "
   ]
  },
  {
   "cell_type": "code",
   "execution_count": 106,
   "metadata": {},
   "outputs": [
    {
     "data": {
      "text/plain": [
       "array([[  0,   1,   4,   9,  16,  25,  36,  49,  64,  81],\n",
       "       [  0,  11,  24,  39,  56,  75,  96, 119, 144, 171],\n",
       "       [  0,  21,  44,  69,  96, 125, 156, 189, 224, 261],\n",
       "       [  0,  31,  64,  99, 136, 175, 216, 259, 304, 351],\n",
       "       [  0,  41,  84, 129, 176, 225, 276, 329, 384, 441],\n",
       "       [  0,  51, 104, 159, 216, 275, 336, 399, 464, 531],\n",
       "       [  0,  61, 124, 189, 256, 325, 396, 469, 544, 621],\n",
       "       [  0,  71, 144, 219, 296, 375, 456, 539, 624, 711],\n",
       "       [  0,  81, 164, 249, 336, 425, 516, 609, 704, 801],\n",
       "       [  0,  91, 184, 279, 376, 475, 576, 679, 784, 891]])"
      ]
     },
     "execution_count": 106,
     "metadata": {},
     "output_type": "execute_result"
    }
   ],
   "source": [
    "np.arange(100).reshape(10,10) * np.arange(10)"
   ]
  },
  {
   "cell_type": "code",
   "execution_count": 102,
   "metadata": {},
   "outputs": [
    {
     "data": {
      "text/plain": [
       "{'Mstar': array([[18., 19., 20., 21., 22., 23., 24., 25., 26., 27.],\n",
       "        [45., 46., 47., 48., 49., 50., 51., 52., 53., 54.],\n",
       "        [72., 73., 74., 75., 76., 77., 78., 79., 80., 81.]]),\n",
       " 'Mbh': array([[18., 19., 20., 21., 22., 23., 24., 25., 26., 27.],\n",
       "        [45., 46., 47., 48., 49., 50., 51., 52., 53., 54.],\n",
       "        [72., 73., 74., 75., 76., 77., 78., 79., 80., 81.]]),\n",
       " 'Re': array([[18., 19., 20., 21., 22., 23., 24., 25., 26., 27.],\n",
       "        [45., 46., 47., 48., 49., 50., 51., 52., 53., 54.],\n",
       "        [72., 73., 74., 75., 76., 77., 78., 79., 80., 81.]]),\n",
       " 'Mgas': array([[18., 19., 20., 21., 22., 23., 24., 25., 26., 27.],\n",
       "        [45., 46., 47., 48., 49., 50., 51., 52., 53., 54.],\n",
       "        [72., 73., 74., 75., 76., 77., 78., 79., 80., 81.]]),\n",
       " 'sSFR': array([[18., 19., 20., 21., 22., 23., 24., 25., 26., 27.],\n",
       "        [45., 46., 47., 48., 49., 50., 51., 52., 53., 54.],\n",
       "        [72., 73., 74., 75., 76., 77., 78., 79., 80., 81.]]),\n",
       " 'Mhalo': array([[18., 19., 20., 21., 22., 23., 24., 25., 26., 27.],\n",
       "        [45., 46., 47., 48., 49., 50., 51., 52., 53., 54.],\n",
       "        [72., 73., 74., 75., 76., 77., 78., 79., 80., 81.]])}"
      ]
     },
     "execution_count": 102,
     "metadata": {},
     "output_type": "execute_result"
    }
   ],
   "source": [
    "result\n",
    "#np.percentile(RealArr,80)"
   ]
  },
  {
   "cell_type": "code",
   "execution_count": 175,
   "metadata": {},
   "outputs": [
    {
     "data": {
      "text/plain": [
       "<matplotlib.legend.Legend at 0x7f835ee812e0>"
      ]
     },
     "execution_count": 175,
     "metadata": {},
     "output_type": "execute_result"
    },
    {
     "data": {
      "image/png": "[encoded data removed]",
      "text/plain": [
       "<Figure size 432x288 with 1 Axes>"
      ]
     },
     "metadata": {
      "needs_background": "light"
     },
     "output_type": "display_data"
    }
   ],
   "source": [
    "import matplotlib.pyplot as plt\n",
    "import numpy as np\n",
    "fMmass = dict(np.load('/srv/cosmdatb/erebos/yingzhong/selData/data/SubHaloSnapGasMaxBinsFormCentral.npz'))\n",
    "f      = dict(np.load('/srv/cosmdatb/erebos/yingzhong/selData/data/SubHaloSnapGasMaxBinsQuench5Central.npz'))\n",
    "NamesForm    = ['bin60_80','bin80_100']\n",
    "NamesQuench  = ['bin40_45','bin45_50','bin50_55','bin55_60','bin60_65','bin65_70',\n",
    "                'bin70_75','bin75_80','bin80_85','bin85_90','bin90_95','bin95_100']\n",
    "ColorsForm   = ['#9467bd', '#d62728']\n",
    "ColorsQuench = ['#7f7f7f', '#bcbd22', '#17becf']\n",
    "\n",
    "fig, axs = plt.subplots()\n",
    "\n",
    "for i in np.arange(2):\n",
    "    ID2    = fMmass[NamesForm[i]]\n",
    "    result2 = Median(ID=ID2)\n",
    "    # reset Mstart\n",
    "    StarIndex2 = np.where(result2['MstarMedian']==0)\n",
    "    for index in StarIndex2[0]: \n",
    "        result2['MstarMedian'][index] = 10**6\n",
    "    # reset Mbh\n",
    "    StarIndex2 = np.where(result2['MbhMedian']==0)\n",
    "    for index in StarIndex2[0]: \n",
    "        result2['MbhMedian'][index] = 10**5\n",
    "\n",
    "    axs.plot(result2['Age'],np.log10(result2['MbhMedian']),\n",
    "             label='form_%s' %NamesForm[i],c=ColorsForm[i])\n",
    "j = 0\n",
    "for i in np.arange(12)[0:12:5]:\n",
    "    ID1    = f[NamesQuench[i]]\n",
    "    result1 = Median(ID=ID1)\n",
    "    # reset Mstart\n",
    "    StarIndex1 = np.where(result1['MstarMedian']==0)\n",
    "    for index in StarIndex1[0]: \n",
    "        result1['MstarMedian'][index] = 10**6\n",
    "        \n",
    "    # reset Mbh\n",
    "    StarIndex1 = np.where(result1['MbhMedian']==0)\n",
    "    for index in StarIndex1[0]: \n",
    "        result1['MbhMedian'][index] = 10**5\n",
    "        \n",
    "    Max_MgasMedian = np.max(result1['MgasMedian'])\n",
    "    Max_Index      = np.where(result1['MgasMedian']==Max_MgasMedian)\n",
    "    Max_Age        = result1['Age'][Max_Index]\n",
    "        \n",
    "    axs.plot(result1['Age'],np.log10(result1['MbhMedian']),\n",
    "             label='quench_%s' %NamesQuench[i],ls='--',c=ColorsQuench[j])\n",
    "    \n",
    "    axs.axvline(Max_Age,c=ColorsQuench[j])\n",
    "    j+=1\n",
    "\n",
    "axs.set_xlabel('Age(Gyr)')\n",
    "axs.set_ylabel('$\\log_{10}(M_{bh}/M_{\\odot})$')\n",
    "axs.legend(fontsize='xx-small')\n",
    "#plt.savefig('/srv/cosmdatb/erebos/yingzhong/fig1/MbhMedian_Age',dpi=250)"
   ]
  },
  {
   "cell_type": "markdown",
   "metadata": {},
   "source": [
    "change the y-label (don't use logarithm)"
   ]
  },
  {
   "cell_type": "code",
   "execution_count": 316,
   "metadata": {},
   "outputs": [
    {
     "data": {
      "image/png": "[encoded data removed]",
      "text/plain": [
       "<Figure size 432x288 with 1 Axes>"
      ]
     },
     "metadata": {
      "needs_background": "light"
     },
     "output_type": "display_data"
    }
   ],
   "source": [
    "import matplotlib.pyplot as plt\n",
    "import numpy as np\n",
    "fMmass = dict(np.load('/srv/cosmdatb/erebos/yingzhong/selData/data/SubHaloSnapGasMaxBinsFormCentral.npz'))\n",
    "f      = dict(np.load('/srv/cosmdatb/erebos/yingzhong/selData/data/SubHaloSnapGasMaxBinsQuench5Central.npz'))\n",
    "NamesForm    = ['bin60_80','bin80_100']\n",
    "NamesQuench  = ['bin40_45','bin45_50','bin50_55','bin55_60','bin60_65','bin65_70',\n",
    "                'bin70_75','bin75_80','bin80_85','bin85_90','bin90_95','bin95_100']\n",
    "ColorsForm   = ['#9467bd', '#d62728']\n",
    "ColorsQuench = ['#7f7f7f', '#bcbd22', '#17becf']\n",
    "\n",
    "fig, axs = plt.subplots()\n",
    "\n",
    "for i in np.arange(2)[1:]:\n",
    "    ID2    = fMmass[NamesForm[i]]\n",
    "    result2 = Median(ID=ID2)\n",
    "    # reset Mstart\n",
    "    StarIndex2 = np.where(result2['MstarMedian']==0)\n",
    "    for index in StarIndex2[0]: \n",
    "        result2['MstarMedian'][index] = 10**6\n",
    "    # reset Mbh\n",
    "    StarIndex2 = np.where(result2['MbhMedian']==0)\n",
    "    for index in StarIndex2[0]: \n",
    "        result2['MbhMedian'][index] = 10**5\n",
    "\n",
    "    axs.plot(result2['Age'],result2['MbhMedian']/ 10**8,\n",
    "             label='form_%s' %NamesForm[i],c=ColorsForm[i])\n",
    "j = 0\n",
    "for i in np.arange(12)[0:12:5]:\n",
    "    ID1    = f[NamesQuench[i]]\n",
    "    result1 = Median(ID=ID1)\n",
    "    # reset Mstart\n",
    "    StarIndex1 = np.where(result1['MstarMedian']==0)\n",
    "    for index in StarIndex1[0]: \n",
    "        result1['MstarMedian'][index] = 10**6\n",
    "        \n",
    "    # reset Mbh\n",
    "    StarIndex1 = np.where(result1['MbhMedian']==0)\n",
    "    for index in StarIndex1[0]: \n",
    "        result1['MbhMedian'][index] = 10**5\n",
    "        \n",
    "    Max_MgasMedian = np.max(result1['MgasMedian'])\n",
    "    Max_Index      = np.where(result1['MgasMedian']==Max_MgasMedian)\n",
    "    Max_Age        = result1['Age'][Max_Index]\n",
    "        \n",
    "    axs.plot(result1['Age'],result1['MbhMedian']/10**8,\n",
    "             label='quench_%s' %NamesQuench[i],ls='--',c=ColorsQuench[j])\n",
    "    \n",
    "    axs.axvline(Max_Age,c=ColorsQuench[j])\n",
    "    j+=1\n",
    "\n",
    "axs.set_xlabel('Age(Gyr)')\n",
    "axs.set_ylabel('$M_{bh}/(10^{8}\\ M_{\\odot})$')\n",
    "axs.legend(fontsize='xx-small')\n",
    "#plt.savefig('/srv/cosmdatb/erebos/yingzhong/fig1/MbhMedian_Age_NoLog',dpi=250)"
   ]
  },
  {
   "cell_type": "code",
   "execution_count": 317,
   "metadata": {},
   "outputs": [
    {
     "data": {
      "image/png": "[encoded data removed]",
      "text/plain": [
       "<Figure size 432x288 with 1 Axes>"
      ]
     },
     "metadata": {
      "needs_background": "light"
     },
     "output_type": "display_data"
    }
   ],
   "source": [
    "import matplotlib.pyplot as plt\n",
    "import numpy as np\n",
    "fMmass = dict(np.load('/srv/cosmdatb/erebos/yingzhong/selData/data/SubHaloSnapGasMaxBinsFormCentral.npz'))\n",
    "f      = dict(np.load('/srv/cosmdatb/erebos/yingzhong/selData/data/SubHaloSnapGasMaxBinsQuench5Central.npz'))\n",
    "NamesForm    = ['bin60_80','bin80_100']\n",
    "NamesQuench  = ['bin40_45','bin45_50','bin50_55','bin55_60','bin60_65','bin65_70',\n",
    "                'bin70_75','bin75_80','bin80_85','bin85_90','bin90_95','bin95_100']\n",
    "ColorsForm   = ['#9467bd', '#d62728']\n",
    "ColorsQuench = ['#7f7f7f', '#bcbd22', '#17becf']\n",
    "\n",
    "fig, axs = plt.subplots()\n",
    "\n",
    "for i in np.arange(2)[1:]:\n",
    "    ID2    = fMmass[NamesForm[i]]\n",
    "    result2 = Median(ID=ID2)\n",
    "    # reset Mstart\n",
    "    StarIndex2 = np.where(result2['MstarMedian']==0)\n",
    "    for index in StarIndex2[0]: \n",
    "        result2['MstarMedian'][index] = 10**6\n",
    "    # reset Mbh\n",
    "    StarIndex2 = np.where(result2['MbhMedian']==0)\n",
    "    for index in StarIndex2[0]: \n",
    "        result2['MbhMedian'][index] = 10**5\n",
    "\n",
    "    axs.plot(result2['Age'],result2['MstarMedian']/ 10**11,\n",
    "             label='form_%s' %NamesForm[i],c=ColorsForm[i])\n",
    "j = 0\n",
    "for i in np.arange(12)[0:12:5]:\n",
    "    ID1    = f[NamesQuench[i]]\n",
    "    result1 = Median(ID=ID1)\n",
    "    # reset Mstart\n",
    "    StarIndex1 = np.where(result1['MstarMedian']==0)\n",
    "    for index in StarIndex1[0]: \n",
    "        result1['MstarMedian'][index] = 10**6\n",
    "        \n",
    "    # reset Mbh\n",
    "    StarIndex1 = np.where(result1['MbhMedian']==0)\n",
    "    for index in StarIndex1[0]: \n",
    "        result1['MbhMedian'][index] = 10**5\n",
    "        \n",
    "    Max_MgasMedian = np.max(result1['MgasMedian'])\n",
    "    Max_Index      = np.where(result1['MgasMedian']==Max_MgasMedian)\n",
    "    Max_Age        = result1['Age'][Max_Index]\n",
    "        \n",
    "    axs.plot(result1['Age'],result1['MstarMedian']/10**11,\n",
    "             label='quench_%s' %NamesQuench[i],ls='--',c=ColorsQuench[j])\n",
    "    \n",
    "    axs.axvline(Max_Age,c=ColorsQuench[j])\n",
    "    j+=1\n",
    "\n",
    "axs.set_xlabel('Age(Gyr)')\n",
    "axs.set_ylabel('$M_{star}/(10^{11}\\ M_{\\odot})$')\n",
    "axs.legend(fontsize='xx-small')\n",
    "#plt.savefig('/srv/cosmdatb/erebos/yingzhong/fig1/MstarMedian_Age_NoLog',dpi=250)"
   ]
  },
  {
   "cell_type": "code",
   "execution_count": 318,
   "metadata": {},
   "outputs": [
    {
     "data": {
      "image/png": "[encoded data removed]",
      "text/plain": [
       "<Figure size 432x288 with 1 Axes>"
      ]
     },
     "metadata": {
      "needs_background": "light"
     },
     "output_type": "display_data"
    }
   ],
   "source": [
    "import matplotlib.pyplot as plt\n",
    "import numpy as np\n",
    "fMmass = dict(np.load('/srv/cosmdatb/erebos/yingzhong/selData/data/SubHaloSnapGasMaxBinsFormCentral.npz'))\n",
    "f      = dict(np.load('/srv/cosmdatb/erebos/yingzhong/selData/data/SubHaloSnapGasMaxBinsQuench5Central.npz'))\n",
    "NamesForm    = ['bin60_80','bin80_100']\n",
    "NamesQuench  = ['bin40_45','bin45_50','bin50_55','bin55_60','bin60_65','bin65_70',\n",
    "                'bin70_75','bin75_80','bin80_85','bin85_90','bin90_95','bin95_100']\n",
    "ColorsForm   = ['#9467bd', '#d62728']\n",
    "ColorsQuench = ['#7f7f7f', '#bcbd22', '#17becf']\n",
    "\n",
    "fig, axs = plt.subplots()\n",
    "\n",
    "for i in np.arange(2)[1:]:\n",
    "    ID2    = fMmass[NamesForm[i]]\n",
    "    result2 = Median(ID=ID2)\n",
    "    # reset Mstart\n",
    "    StarIndex2 = np.where(result2['MstarMedian']==0)\n",
    "    for index in StarIndex2[0]: \n",
    "        result2['MstarMedian'][index] = 10**6\n",
    "    # reset Mbh\n",
    "    StarIndex2 = np.where(result2['MbhMedian']==0)\n",
    "    for index in StarIndex2[0]: \n",
    "        result2['MbhMedian'][index] = 10**5\n",
    "\n",
    "    axs.plot(result2['Age'],result2['MgasMedian']/ 10**11,\n",
    "             label='form_%s' %NamesForm[i],c=ColorsForm[i])\n",
    "j = 0\n",
    "for i in np.arange(12)[0:12:5]:\n",
    "    ID1    = f[NamesQuench[i]]\n",
    "    result1 = Median(ID=ID1)\n",
    "    # reset Mstart\n",
    "    StarIndex1 = np.where(result1['MstarMedian']==0)\n",
    "    for index in StarIndex1[0]: \n",
    "        result1['MstarMedian'][index] = 10**6\n",
    "        \n",
    "    # reset Mbh\n",
    "    StarIndex1 = np.where(result1['MbhMedian']==0)\n",
    "    for index in StarIndex1[0]: \n",
    "        result1['MbhMedian'][index] = 10**5\n",
    "        \n",
    "    Max_MgasMedian = np.max(result1['MgasMedian'])\n",
    "    Max_Index      = np.where(result1['MgasMedian']==Max_MgasMedian)\n",
    "    Max_Age        = result1['Age'][Max_Index]\n",
    "        \n",
    "    axs.plot(result1['Age'],result1['MgasMedian']/10**11,\n",
    "             label='quench_%s' %NamesQuench[i],ls='--',c=ColorsQuench[j])\n",
    "    \n",
    "    axs.axvline(Max_Age,c=ColorsQuench[j])\n",
    "    j+=1\n",
    "\n",
    "axs.set_xlabel('Age(Gyr)')\n",
    "axs.set_ylabel('$M_{gas}/(10^{11}\\ M_{\\odot})$')\n",
    "axs.legend(fontsize='xx-small')\n",
    "#plt.savefig('/srv/cosmdatb/erebos/yingzhong/fig1/MgasMedian_Age_NoLog',dpi=250)"
   ]
  },
  {
   "cell_type": "code",
   "execution_count": 320,
   "metadata": {},
   "outputs": [
    {
     "data": {
      "image/png": "[encoded data removed]",
      "text/plain": [
       "<Figure size 432x288 with 1 Axes>"
      ]
     },
     "metadata": {
      "needs_background": "light"
     },
     "output_type": "display_data"
    }
   ],
   "source": [
    "import matplotlib.pyplot as plt\n",
    "import numpy as np\n",
    "fMmass = dict(np.load('/srv/cosmdatb/erebos/yingzhong/selData/data/SubHaloSnapGasMaxBinsFormCentral.npz'))\n",
    "f      = dict(np.load('/srv/cosmdatb/erebos/yingzhong/selData/data/SubHaloSnapGasMaxBinsQuench5Central.npz'))\n",
    "NamesForm    = ['bin60_80','bin80_100']\n",
    "NamesQuench  = ['bin40_45','bin45_50','bin50_55','bin55_60','bin60_65','bin65_70',\n",
    "                'bin70_75','bin75_80','bin80_85','bin85_90','bin90_95','bin95_100']\n",
    "ColorsForm   = ['#9467bd', '#d62728']\n",
    "ColorsQuench = ['#7f7f7f', '#bcbd22', '#17becf']\n",
    "\n",
    "fig, axs = plt.subplots()\n",
    "\n",
    "for i in np.arange(2)[1:]:\n",
    "    ID2    = fMmass[NamesForm[i]]\n",
    "    result2 = Median(ID=ID2)\n",
    "    # reset Mstart\n",
    "    StarIndex2 = np.where(result2['MstarMedian']==0)\n",
    "    for index in StarIndex2[0]: \n",
    "        result2['MstarMedian'][index] = 10**6\n",
    "    # reset Mbh\n",
    "    StarIndex2 = np.where(result2['MbhMedian']==0)\n",
    "    for index in StarIndex2[0]: \n",
    "        result2['MbhMedian'][index] = 10**5\n",
    "\n",
    "    axs.plot(result2['Age'],result2['MhaloMedian']/ 10**12,\n",
    "             label='form_%s' %NamesForm[i],c=ColorsForm[i])\n",
    "j = 0\n",
    "for i in np.arange(12)[0:12:5]:\n",
    "    ID1    = f[NamesQuench[i]]\n",
    "    result1 = Median(ID=ID1)\n",
    "    # reset Mstart\n",
    "    StarIndex1 = np.where(result1['MstarMedian']==0)\n",
    "    for index in StarIndex1[0]: \n",
    "        result1['MstarMedian'][index] = 10**6\n",
    "        \n",
    "    # reset Mbh\n",
    "    StarIndex1 = np.where(result1['MbhMedian']==0)\n",
    "    for index in StarIndex1[0]: \n",
    "        result1['MbhMedian'][index] = 10**5\n",
    "        \n",
    "    Max_MgasMedian = np.max(result1['MgasMedian'])\n",
    "    Max_Index      = np.where(result1['MgasMedian']==Max_MgasMedian)\n",
    "    Max_Age        = result1['Age'][Max_Index]\n",
    "        \n",
    "    axs.plot(result1['Age'],result1['MhaloMedian']/10**12,\n",
    "             label='quench_%s' %NamesQuench[i],ls='--',c=ColorsQuench[j])\n",
    "    \n",
    "    axs.axvline(Max_Age,c=ColorsQuench[j])\n",
    "    j+=1\n",
    "\n",
    "axs.set_xlabel('Age(Gyr)')\n",
    "axs.set_ylabel('$M_{halo}/(10^{12}\\ M_{\\odot})$')\n",
    "axs.legend(fontsize='xx-small')\n",
    "plt.savefig('/srv/cosmdatb/erebos/yingzhong/fig1/MhaloMedian_Age_NoLog',dpi=250)"
   ]
  },
  {
   "cell_type": "code",
   "execution_count": 293,
   "metadata": {},
   "outputs": [
    {
     "data": {
      "image/png": "[encoded data removed]",
      "text/plain": [
       "<Figure size 432x288 with 1 Axes>"
      ]
     },
     "metadata": {
      "needs_background": "light"
     },
     "output_type": "display_data"
    }
   ],
   "source": [
    "import matplotlib.pyplot as plt\n",
    "import numpy as np\n",
    "fMmass = dict(np.load('/srv/cosmdatb/erebos/yingzhong/selData/data/SubHaloSnapGasMaxBinsFormCentral.npz'))\n",
    "f      = dict(np.load('/srv/cosmdatb/erebos/yingzhong/selData/data/SubHaloSnapGasMaxBinsQuench5Central.npz'))\n",
    "NamesForm    = ['bin60_80','bin80_100']\n",
    "NamesQuench  = ['bin40_45','bin45_50','bin50_55','bin55_60','bin60_65','bin65_70',\n",
    "                'bin70_75','bin75_80','bin80_85','bin85_90','bin90_95','bin95_100']\n",
    "ColorsForm   = ['#9467bd', '#d62728']\n",
    "ColorsQuench = ['#7f7f7f', '#bcbd22', '#17becf', '#CD853F', '#FFC0CB', '#DDA0DD',\n",
    "                '#B0E0E6', '#800080', '#BC8F8F', '#FA8072', '#A0522D', '#D2B48C']\n",
    "\n",
    "fig, axs = plt.subplots()\n",
    "\n",
    "for i in np.arange(2)[1:]:\n",
    "    ID2    = fMmass[NamesForm[i]]\n",
    "    result2 = Median(ID=ID2)\n",
    "    # reset Mstart\n",
    "    StarIndex2 = np.where(result2['MstarMedian']==0)\n",
    "    for index in StarIndex2[0]: \n",
    "        result2['MstarMedian'][index] = 10**6\n",
    "    # reset Mbh\n",
    "    StarIndex2 = np.where(result2['MbhMedian']==0)\n",
    "    for index in StarIndex2[0]: \n",
    "        result2['MbhMedian'][index] = 10**5\n",
    "\n",
    "    axs.plot(result2['Age'],result2['MbhMedian']/result2['MbhMedian'][0],\n",
    "             label='form_%s' %NamesForm[i],c=ColorsForm[i])\n",
    "j = 0\n",
    "for i in np.arange(12)[0:12:5]:\n",
    "    ID1    = f[NamesQuench[i]]\n",
    "    result1 = Median(ID=ID1)\n",
    "    # reset Mstart\n",
    "    StarIndex1 = np.where(result1['MstarMedian']==0)\n",
    "    for index in StarIndex1[0]: \n",
    "        result1['MstarMedian'][index] = 10**6\n",
    "        \n",
    "    # reset Mbh\n",
    "    StarIndex1 = np.where(result1['MbhMedian']==0)\n",
    "    for index in StarIndex1[0]: \n",
    "        result1['MbhMedian'][index] = 10**5\n",
    "        \n",
    "    Max_MgasMedian = np.max(result1['MgasMedian'])\n",
    "    Max_Index      = np.where(result1['MgasMedian']==Max_MgasMedian)\n",
    "    Max_Age        = result1['Age'][Max_Index]\n",
    "        \n",
    "    axs.plot(result1['Age'],result1['MbhMedian']/result1['MbhMedian'][0],\n",
    "             label='quench_%s' %NamesQuench[i],ls='--',c=ColorsQuench[j])\n",
    "    \n",
    "    axs.axvline(Max_Age,c=ColorsQuench[j])\n",
    "    j+=1\n",
    "\n",
    "axs.set_xlabel('Age(Gyr)')\n",
    "axs.set_ylabel('$M_{bh}/M_{bh,z=0}$')\n",
    "axs.legend(fontsize='xx-small')\n",
    "#plt.savefig('/srv/cosmdatb/erebos/yingzhong/fig1/MbhMedian_Age_norm',dpi=250)"
   ]
  },
  {
   "cell_type": "code",
   "execution_count": 292,
   "metadata": {},
   "outputs": [
    {
     "data": {
      "image/png": "[encoded data removed]",
      "text/plain": [
       "<Figure size 432x288 with 1 Axes>"
      ]
     },
     "metadata": {
      "needs_background": "light"
     },
     "output_type": "display_data"
    }
   ],
   "source": [
    "import matplotlib.pyplot as plt\n",
    "import numpy as np\n",
    "fMmass = dict(np.load('/srv/cosmdatb/erebos/yingzhong/selData/data/SubHaloSnapGasMaxBinsFormCentral.npz'))\n",
    "f      = dict(np.load('/srv/cosmdatb/erebos/yingzhong/selData/data/SubHaloSnapGasMaxBinsQuench5Central.npz'))\n",
    "NamesForm    = ['bin60_80','bin80_100']\n",
    "NamesQuench  = ['bin40_45','bin45_50','bin50_55','bin55_60','bin60_65','bin65_70',\n",
    "                'bin70_75','bin75_80','bin80_85','bin85_90','bin90_95','bin95_100']\n",
    "ColorsForm   = ['#9467bd', '#d62728']\n",
    "ColorsQuench = ['#7f7f7f', '#bcbd22', '#17becf', '#CD853F', '#FFC0CB', '#DDA0DD',\n",
    "                '#B0E0E6', '#800080', '#BC8F8F', '#FA8072', '#A0522D', '#D2B48C']\n",
    "\n",
    "fig, axs = plt.subplots()\n",
    "\n",
    "for i in np.arange(2)[1:]:\n",
    "    ID2    = fMmass[NamesForm[i]]\n",
    "    result2 = Median(ID=ID2)\n",
    "    # reset Mstart\n",
    "    StarIndex2 = np.where(result2['MstarMedian']==0)\n",
    "    for index in StarIndex2[0]: \n",
    "        result2['MstarMedian'][index] = 10**6\n",
    "    # reset Mbh\n",
    "    StarIndex2 = np.where(result2['MbhMedian']==0)\n",
    "    for index in StarIndex2[0]: \n",
    "        result2['MbhMedian'][index] = 10**5\n",
    "\n",
    "    axs.plot(result2['Age'],result2['MhaloMedian']/result2['MhaloMedian'][0],\n",
    "             label='form_%s' %NamesForm[i],c=ColorsForm[i])\n",
    "j = 0\n",
    "for i in np.arange(12)[0:12:5]:\n",
    "    ID1    = f[NamesQuench[i]]\n",
    "    result1 = Median(ID=ID1)\n",
    "    # reset Mstart\n",
    "    StarIndex1 = np.where(result1['MstarMedian']==0)\n",
    "    for index in StarIndex1[0]: \n",
    "        result1['MstarMedian'][index] = 10**6\n",
    "        \n",
    "    # reset Mbh\n",
    "    StarIndex1 = np.where(result1['MbhMedian']==0)\n",
    "    for index in StarIndex1[0]: \n",
    "        result1['MbhMedian'][index] = 10**5\n",
    "        \n",
    "    Max_MgasMedian = np.max(result1['MgasMedian'])\n",
    "    Max_Index      = np.where(result1['MgasMedian']==Max_MgasMedian)\n",
    "    Max_Age        = result1['Age'][Max_Index]\n",
    "        \n",
    "    axs.plot(result1['Age'],result1['MhaloMedian']/result1['MhaloMedian'][0],\n",
    "             label='quench_%s' %NamesQuench[i],ls='--',c=ColorsQuench[j])\n",
    "    \n",
    "    axs.axvline(Max_Age,c=ColorsQuench[j])\n",
    "    j+=1\n",
    "\n",
    "axs.set_xlabel('Age(Gyr)')\n",
    "axs.set_ylabel('$M_{halo}/M_{halo,z=0}$')\n",
    "axs.legend(fontsize='xx-small')\n",
    "#plt.savefig('/srv/cosmdatb/erebos/yingzhong/fig1/MhaloMedian_Age_norm',dpi=250)"
   ]
  },
  {
   "cell_type": "code",
   "execution_count": 389,
   "metadata": {},
   "outputs": [
    {
     "data": {
      "text/plain": [
       "dict_keys(['SnapNum', 'MstarMedian', 'ReMedian', 'MbhMedian', 'MgasMedian', 'LookBackTime'])"
      ]
     },
     "execution_count": 389,
     "metadata": {},
     "output_type": "execute_result"
    }
   ],
   "source": [
    "result2.keys()"
   ]
  },
  {
   "cell_type": "markdown",
   "metadata": {},
   "source": [
    "Re"
   ]
  },
  {
   "cell_type": "code",
   "execution_count": 750,
   "metadata": {},
   "outputs": [
    {
     "data": {
      "image/png": "[encoded data removed]",
      "text/plain": [
       "<Figure size 432x288 with 1 Axes>"
      ]
     },
     "metadata": {
      "needs_background": "light"
     },
     "output_type": "display_data"
    }
   ],
   "source": [
    "import matplotlib.pyplot as plt\n",
    "import numpy as np\n",
    "fMmass = dict(np.load('/srv/cosmdatb/erebos/yingzhong/selData/data/SubHaloSnapGasMaxBinsFormCentral.npz'))\n",
    "f      = dict(np.load('/srv/cosmdatb/erebos/yingzhong/selData/data/SubHaloSnapGasMaxBinsQuench5Central.npz'))\n",
    "NamesForm    = ['bin60_80','bin80_100']\n",
    "NamesQuench  = ['bin40_45','bin45_50','bin50_55','bin55_60','bin60_65','bin65_70',\n",
    "                'bin70_75','bin75_80','bin80_85','bin85_90','bin90_95','bin95_100']\n",
    "\n",
    "ColorsForm   = ['#9467bd', '#d62728']\n",
    "ColorsQuench = ['#7f7f7f', '#bcbd22', '#17becf','#2ca02c', '#8c564b', '#e377c2']\n",
    "\n",
    "fig, axs = plt.subplots()\n",
    "\n",
    "for i in np.arange(2):\n",
    "    ID2    = fMmass[NamesForm[i]]\n",
    "    result2 = Median(ID=ID2)\n",
    "    # reset Mstart\n",
    "    StarIndex2 = np.where(result2['MstarMedian']==0)\n",
    "    for index in StarIndex2[0]: \n",
    "        result2['MstarMedian'][index] = 10**6\n",
    "    # reset Mbh\n",
    "    StarIndex2 = np.where(result2['MbhMedian']==0)\n",
    "    for index in StarIndex2[0]: \n",
    "        result2['MbhMedian'][index] = 10**5\n",
    "\n",
    "    #axs.plot(result2['Age'],np.log10(result2['sSFRMedian']/10**(-11) + 10**(-2)),\n",
    "    #         label='form_%s' %NamesForm[i],c=ColorsForm[i])\n",
    "    axs.plot(result2['Age'],result2['ReMedian'],\n",
    "             label='form_%s' %NamesForm[i],c=ColorsForm[i])\n",
    "j = 0\n",
    "for i in np.arange(12)[0:12:2]:\n",
    "    ID1     = f[NamesQuench[i]]\n",
    "    result1 = Median(ID=ID1)\n",
    "    # reset Mstart\n",
    "    StarIndex1 = np.where(result1['MstarMedian']==0)\n",
    "    for index in StarIndex1[0]: \n",
    "        result1['MstarMedian'][index] = 10**6\n",
    "        \n",
    "    # reset Mbh\n",
    "    StarIndex1 = np.where(result1['MbhMedian']==0)\n",
    "    for index in StarIndex1[0]: \n",
    "        result1['MbhMedian'][index] = 10**5\n",
    "        \n",
    "    Max_MgasMedian = np.max(result1['MgasMedian'])\n",
    "    Max_Index      = np.where(result1['MgasMedian']==Max_MgasMedian)\n",
    "    Max_Age        = result1['Age'][Max_Index]\n",
    "        \n",
    "    #axs.plot(result1['Age'],np.log10(result1['sSFRMedian']/10**(-11) + 10**(-2)),\n",
    "    #         label='quench_%s' %NamesQuench[i],ls='--',c=ColorsQuench[j])\n",
    "    axs.plot(result1['Age'],result1['ReMedian'],\n",
    "             label='quench_%s' %NamesQuench[i],ls='--',c=ColorsQuench[j])\n",
    "    #axs.axvline(Max_Age,c=ColorsQuench[j])\n",
    "    j+=1\n",
    "\n",
    "axs.set_xlabel('Age(Gyr)')\n",
    "#axs.set_ylabel('$\\log_{10}(sSFR/10^{-11}yr^{-1})$')\n",
    "axs.set_ylabel('Re(kpc)')\n",
    "axs.legend(fontsize='xx-small')\n",
    "#plt.savefig('/srv/cosmdatb/erebos/yingzhong/fig1/ReMedian_Age',dpi=250)"
   ]
  },
  {
   "cell_type": "markdown",
   "metadata": {},
   "source": [
    "plot the evolution of StarMass, bhMass and Re,sSFR,gas of some galaxies with error band "
   ]
  },
  {
   "cell_type": "code",
   "execution_count": 326,
   "metadata": {},
   "outputs": [
    {
     "data": {
      "image/png": "[encoded data removed]",
      "text/plain": [
       "<Figure size 432x288 with 1 Axes>"
      ]
     },
     "metadata": {
      "needs_background": "light"
     },
     "output_type": "display_data"
    }
   ],
   "source": [
    "import matplotlib.pyplot as plt\n",
    "import numpy as np\n",
    "fMmass = dict(np.load('/srv/cosmdatb/erebos/yingzhong/selData/data/SubHaloSnapGasMaxBinsFormCentral.npz'))\n",
    "f      = dict(np.load('/srv/cosmdatb/erebos/yingzhong/selData/data/SubHaloSnapGasMaxBinsQuench5Central.npz'))\n",
    "NamesForm    = ['bin60_80','bin80_100']\n",
    "NamesQuench  = ['bin40_45','bin45_50','bin50_55','bin55_60','bin60_65','bin65_70',\n",
    "                'bin70_75','bin75_80','bin80_85','bin85_90','bin90_95','bin95_100']\n",
    "ColorsForm   = ['#9467bd', '#d62728']\n",
    "ColorsQuench = ['#7f7f7f', '#bcbd22', '#17becf', '#CD853F', '#FFC0CB', '#DDA0DD',\n",
    "                '#B0E0E6', '#800080', '#BC8F8F', '#FA8072', '#A0522D', '#D2B48C']\n",
    "\n",
    "#Names = ['Mstar','Mbh','Re','Mgas','sSFR','Mhalo']\n",
    "name  = 'Mstar'\n",
    "scale = 10**11\n",
    "\n",
    "fig, axs = plt.subplots()\n",
    "\n",
    "for k in np.arange(2)[1:]:\n",
    "    ID2     = fMmass[NamesForm[k]]\n",
    "    result2 = percent(ID=ID2)\n",
    "    # reset Mstart\n",
    "    for i in np.arange(3):\n",
    "        StarIndex2 = np.where(result2[name][i,:]==0)\n",
    "        if len(StarIndex2[0]) != 0:  \n",
    "            result2[name] = np.delete(result2[name],StarIndex2[0],axis=1)\n",
    "            result2['Age']   = np.delete(result2['Age'],StarIndex2[0])\n",
    "            \n",
    "            \n",
    "    axs.plot(result2['Age'],result2[name][1,:]/scale,\n",
    "             label='form_%s' %NamesForm[k],c=ColorsForm[k])\n",
    "    axs.fill_between(result2['Age'],result2[name][0,:]/scale,\n",
    "                     result2[name][2,:]/scale,alpha=0.2,color=ColorsForm[k])\n",
    "j = 0\n",
    "for k in np.arange(12)[0:1]:\n",
    "    ID1    = f[NamesQuench[k]]\n",
    "    result1 = percent(ID=ID1)\n",
    "    # reset Mstart\n",
    "    \n",
    "    for i in np.arange(3):\n",
    "        StarIndex1 = np.where(result1[name][i,:]==0)\n",
    "        if len(StarIndex1[0]) != 0:  \n",
    "            result1[name] = np.delete(result1[name],StarIndex1[0],axis=1)\n",
    "            result1['Age']   = np.delete(result1['Age'],StarIndex1[0])\n",
    "    \n",
    "    # reset Mbh\n",
    "    #StarIndex1 = np.where(result1['MbhMedian']==0)\n",
    "    #for index in StarIndex1[0]: \n",
    "    #    result1['MbhMedian'][index] = 10**5\n",
    "        \n",
    "    #Max_MgasMedian = np.max(result1['MgasMedian'])\n",
    "    #Max_Index      = np.where(result1['MgasMedian']==Max_MgasMedian)\n",
    "    #Max_Age        = result1['Age'][Max_Index]\n",
    "        \n",
    "    axs.plot(result1['Age'],result1[name][1,:]/scale,\n",
    "             label='quench_%s' %NamesQuench[k],ls='--',c=ColorsQuench[j])\n",
    "    axs.fill_between(result1['Age'],result1[name][0,:]/scale,\n",
    "                     result1[name][2,:]/scale,alpha=0.2,color=ColorsQuench[j])\n",
    "    \n",
    "    #axs.axvline(Max_Age,c=ColorsQuench[j])\n",
    "    \n",
    "    j+=1\n",
    "\n",
    "axs.set_xlabel('Age(Gyr)')\n",
    "axs.set_ylabel('$M_{star}/(10^{11}\\ M_{\\odot})$')\n",
    "axs.legend(fontsize='xx-small')\n",
    "plt.savefig('/srv/cosmdatb/erebos/yingzhong/fig1/Mstar_Age_ErrorBand_NoLog',dpi=250)"
   ]
  },
  {
   "cell_type": "code",
   "execution_count": 158,
   "metadata": {},
   "outputs": [
    {
     "data": {
      "text/plain": [
       "23"
      ]
     },
     "execution_count": 158,
     "metadata": {},
     "output_type": "execute_result"
    }
   ],
   "source": [
    "len(ID1)"
   ]
  },
  {
   "cell_type": "code",
   "execution_count": 769,
   "metadata": {},
   "outputs": [
    {
     "data": {
      "text/plain": [
       "<matplotlib.legend.Legend at 0x7f32b06103a0>"
      ]
     },
     "execution_count": 769,
     "metadata": {},
     "output_type": "execute_result"
    },
    {
     "data": {
      "image/png": "[encoded data removed]",
      "text/plain": [
       "<Figure size 432x288 with 1 Axes>"
      ]
     },
     "metadata": {
      "needs_background": "light"
     },
     "output_type": "display_data"
    }
   ],
   "source": [
    "import matplotlib.pyplot as plt\n",
    "import numpy as np\n",
    "fMmass = dict(np.load('/srv/cosmdatb/erebos/yingzhong/selData/data/SubHaloBirthTimeBinsForm.npz'))\n",
    "f      = dict(np.load('/srv/cosmdatb/erebos/yingzhong/selData/data/SubHaloBirthTimeBinsQuench.npz'))\n",
    "Names  = ['bin0_2','bin2_4','bin4_6','bin6_8','bin8_10']\n",
    "\n",
    "fig, axs = plt.subplots()\n",
    "for name in Names[0:4]:\n",
    "    ID1    = f[name]\n",
    "    ID2    = fMmass[name]\n",
    "    result1 = Median(ID=ID1)\n",
    "    result2 = Median(ID=ID2)\n",
    "    \n",
    "    StarIndex1 = np.where(result1['MstarMedian']==0)\n",
    "    StarIndex2 = np.where(result2['MstarMedian']==0)\n",
    "    \n",
    "    for index in StarIndex1[0]: \n",
    "        result1['MstarMedian'][index] = 10**6\n",
    "        \n",
    "    for index in StarIndex2[0]: \n",
    "        result2['MstarMedian'][index] = 10**6\n",
    "\n",
    "    #axs.plot(result2['SnapNum'],np.log10(result2['MstarMedian']+1),label='form_%s' %name)\n",
    "    axs.plot(result1['SnapNum'],np.log10(result1['MstarMedian']+1),label='quench_%s' %name,ls='--')\n",
    "    #axs.plot(result2['SnapNum'],result2['ReMedian'],label='form%s' %name)\n",
    "    #axs.plot(result1['SnapNum'],result1['ReMedian'],label='quench%s' %name,ls='--')\n",
    "    \n",
    "\n",
    "axs.legend(fontsize='xx-small')\n"
   ]
  },
  {
   "cell_type": "code",
   "execution_count": 774,
   "metadata": {},
   "outputs": [
    {
     "data": {
      "text/plain": [
       "<matplotlib.legend.Legend at 0x7f32b2c39640>"
      ]
     },
     "execution_count": 774,
     "metadata": {},
     "output_type": "execute_result"
    },
    {
     "data": {
      "image/png": "[encoded data removed]",
      "text/plain": [
       "<Figure size 432x288 with 1 Axes>"
      ]
     },
     "metadata": {
      "needs_background": "light"
     },
     "output_type": "display_data"
    }
   ],
   "source": [
    "import matplotlib.pyplot as plt\n",
    "import numpy as np\n",
    "fMmass = dict(np.load('/srv/cosmdatb/erebos/yingzhong/selData/data/SubHaloBirthTimeBinsForm.npz'))\n",
    "f      = dict(np.load('/srv/cosmdatb/erebos/yingzhong/selData/data/SubHaloBirthTimeBinsQuench.npz'))\n",
    "Names  = ['bin0_2','bin2_4','bin4_6','bin6_8','bin8_10']\n",
    "\n",
    "fig, axs = plt.subplots()\n",
    "for name in Names[0:4]:\n",
    "    ID1    = f[name]\n",
    "    ID2    = fMmass[name]\n",
    "    result1 = Median(ID=ID1)\n",
    "    result2 = Median(ID=ID2)\n",
    "    \n",
    "    StarIndex1 = np.where(result1['MbhMedian']==0)\n",
    "    StarIndex2 = np.where(result2['MbhMedian']==0)\n",
    "    \n",
    "    for index in StarIndex1[0]: \n",
    "        result1['MbhMedian'][index] = 10**6\n",
    "        \n",
    "    for index in StarIndex2[0]: \n",
    "        result2['MbhMedian'][index] = 10**6\n",
    "\n",
    "    axs.plot(result2['SnapNum'],np.log10(result2['MbhMedian']+1),label='form_%s' %name)\n",
    "    #axs.plot(result1['SnapNum'],np.log10(result1['MbhMedian']+1),label='quench_%s' %name,ls='--')\n",
    "    #axs.plot(result2['SnapNum'],result2['ReMedian'],label='form%s' %name)\n",
    "    #axs.plot(result1['SnapNum'],result1['ReMedian'],label='quench%s' %name,ls='--')\n",
    "    \n",
    "\n",
    "axs.legend(fontsize='xx-small')\n",
    "\n"
   ]
  },
  {
   "cell_type": "code",
   "execution_count": 149,
   "metadata": {},
   "outputs": [
    {
     "data": {
      "text/plain": [
       "<matplotlib.legend.Legend at 0x7f32b9221850>"
      ]
     },
     "execution_count": 149,
     "metadata": {},
     "output_type": "execute_result"
    },
    {
     "data": {
      "image/png": "[encoded data removed]",
      "text/plain": [
       "<Figure size 432x288 with 1 Axes>"
      ]
     },
     "metadata": {
      "needs_background": "light"
     },
     "output_type": "display_data"
    }
   ],
   "source": [
    "import matplotlib.pyplot as plt\n",
    "import numpy as np\n",
    "fMmass = dict(np.load('/srv/cosmdatb/erebos/yingzhong/selData/data/SubHaloBirthTimeBinsForm.npz'))\n",
    "f      = dict(np.load('/srv/cosmdatb/erebos/yingzhong/selData/data/SubHaloBirthTimeBinsQuench.npz'))\n",
    "Names  = ['bin0_2','bin2_4','bin4_6','bin6_8','bin8_10']\n",
    "\n",
    "fig, axs = plt.subplots()\n",
    "for name in Names[1:2]:\n",
    "    ID1    = f[name]\n",
    "    ID2    = fMmass[name]\n",
    "    result1 = Median(ID=ID1)\n",
    "    result2 = Median(ID=ID2)\n",
    "\n",
    "\n",
    "    axs.plot(result2['SnapNum'],result2['MbhMedian'],label='form_%s' %name)\n",
    "    axs.plot(result1['SnapNum'],result1['MbhMedian'],label='quench_%s' %name,ls='--')\n",
    "    #axs.plot(result1['SnapNum'],result1['ReMedian'],label='%s' %name)\n",
    "\n",
    "axs.legend(fontsize='xx-small')\n",
    "\n"
   ]
  },
  {
   "cell_type": "code",
   "execution_count": 371,
   "metadata": {},
   "outputs": [
    {
     "data": {
      "text/plain": [
       "<matplotlib.legend.Legend at 0x7f32b50012e0>"
      ]
     },
     "execution_count": 371,
     "metadata": {},
     "output_type": "execute_result"
    },
    {
     "data": {
      "image/png": "[encoded data removed]",
      "text/plain": [
       "<Figure size 432x288 with 1 Axes>"
      ]
     },
     "metadata": {
      "needs_background": "light"
     },
     "output_type": "display_data"
    }
   ],
   "source": [
    "import numpy as np\n",
    "import matplotlib.pyplot as plt\n",
    "import seaborn as sns\n",
    "\n",
    "HistoryForm = dict(np.load('/srv/cosmdatb/erebos/yingzhong/selData/data/History_form.npz'))\n",
    "HistoryQuench = dict(np.load('/srv/cosmdatb/erebos/yingzhong/selData/data/History_quench.npz'))\n",
    "fMmass = dict(np.load('/srv/cosmdatb/erebos/yingzhong/selData/data/SubHaloSnapGasMaxBinsForm.npz'))\n",
    "f      = dict(np.load('/srv/cosmdatb/erebos/yingzhong/selData/data/SubHaloSnapGasMaxBinsQuench5.npz'))\n",
    "\n",
    "NamesForm    = ['bin60_80','bin80_100']\n",
    "NamesQuench  = ['bin40_45','bin45_50','bin50_55','bin55_60','bin60_65','bin65_70',\n",
    "                'bin70_75','bin75_80','bin80_85','bin85_90','bin90_95','bin95_100']\n",
    "\n",
    "\n",
    "\n",
    "Fields = ['M_gas_max','Age_gas_max','M_star_max','M_bh_max','M_gas_after','M_star_after',\n",
    "         'M_bh_after','M_gas_befor','M_star_befor','M_bh_befor','PresentSubHaloID','BirthTime']\n",
    "i = 0\n",
    "j = 2\n",
    "FormIndex   = np.zeros(0,dtype=int)\n",
    "QuenchIndex = np.zeros(0,dtype=int)\n",
    "'''cut off'''\n",
    "#FormIndex   = np.union1d(np.where(np.log10(HistoryForm['M_bh_max']+1)<=6)[0],\n",
    "#                             np.where(np.log10(HistoryForm['M_gas_after']+1)<=10)[0])\n",
    "                             \n",
    "#QuenchIndex = np.union1d(np.where(np.log10(HistoryQuench['M_bh_max']+1)<=6)[0],\n",
    "#                             np.where(np.log10(HistoryQuench['M_gas_after']+1)<=10)[0])\n",
    "\n",
    "#for field in Fields:\n",
    "#    HistoryForm[field]   = np.delete(HistoryForm[field],FormIndex)\n",
    "#    HistoryQuench[field] = np.delete(HistoryQuench[field],QuenchIndex)\n",
    "\n",
    "for Id in fMmass[NamesForm[i]]:\n",
    "    FormIndex   = np.append(FormIndex,np.where(HistoryForm['PresentSubHaloID']==Id)[0][0])\n",
    "\n",
    "for Id in f[NamesQuench[j]]:\n",
    "    QuenchIndex = np.append(QuenchIndex,np.where(HistoryQuench['PresentSubHaloID']==Id)[0][0])\n",
    "\n",
    "for field in Fields:\n",
    "    HistoryForm[field]   = HistoryForm[field][FormIndex]\n",
    "    HistoryQuench[field] = HistoryQuench[field][QuenchIndex]\n",
    "\n",
    "fig, axs = plt.subplots()\n",
    "\n",
    "#axs = sns.distplot(np.log10(HistoryForm['slope_gas_after']+1),label='$sSFR > 10^{-11}\\ yr^{-1}$ & $S/T<0.25$')\n",
    "#axs = sns.distplot(np.log10(HistoryQuench['slope_bh_after']+1),label='$sSFR < 10^{-11}\\ yr^{-1}$ & $S/T<0.25$')\n",
    "\n",
    "axs = sns.distplot(HistoryForm['Age_gas_max'],label='$sSFR > 10^{-11}\\ yr^{-1}$ & $S/T<0.25$')\n",
    "axs = sns.distplot(HistoryQuench['Age_gas_max'],label='$sSFR < 10^{-11}\\ yr^{-1}$ & $S/T<0.25$')\n",
    "\n",
    "#axs.set_xlabel('$t_{max} $(Gyr)')\n",
    "#axs.set_xlabel('Age(Gyr)')\n",
    "axs.legend(fontsize='xx-small')\n",
    "#plt.savefig('/srv/cosmdatb/erebos/yingzhong/fig1/t_max\\ M_gas_max',dpi=250)"
   ]
  },
  {
   "cell_type": "code",
   "execution_count": 125,
   "metadata": {},
   "outputs": [
    {
     "data": {
      "text/plain": [
       "35"
      ]
     },
     "execution_count": 125,
     "metadata": {},
     "output_type": "execute_result"
    }
   ],
   "source": [
    "len(f['bin6_8'])"
   ]
  },
  {
   "cell_type": "code",
   "execution_count": 1311,
   "metadata": {},
   "outputs": [
    {
     "data": {
      "text/plain": [
       "dict_keys(['SnapNum', 'MstarMedian', 'ReMedian', 'MbhMedian', 'LookBackTime'])"
      ]
     },
     "execution_count": 1311,
     "metadata": {},
     "output_type": "execute_result"
    }
   ],
   "source": [
    "result1.keys()"
   ]
  },
  {
   "cell_type": "code",
   "execution_count": null,
   "metadata": {},
   "outputs": [],
   "source": [
    "import matplotlib.pyplot as plt\n",
    "\n",
    "result_form   = dict(np.load('/srv/cosmdatb/erebos/yingzhong/selData/data/Median_form.npz'))\n",
    "result_quench = dict(np.load('/srv/cosmdatb/erebos/yingzhong/selData/data/Median_quench.npz'))\n",
    "\n",
    "plt.plot(result_form['SnapNum'],result_form['MbhMedian'])\n",
    "plt.plot(result_quench['SnapNum'],result_quench['MbhMedian'])\n"
   ]
  },
  {
   "cell_type": "code",
   "execution_count": 9,
   "metadata": {},
   "outputs": [
    {
     "data": {
      "text/plain": [
       "<matplotlib.legend.Legend at 0x7f32c30e2400>"
      ]
     },
     "execution_count": 9,
     "metadata": {},
     "output_type": "execute_result"
    },
    {
     "data": {
      "image/png": "[encoded data removed]",
      "text/plain": [
       "<Figure size 432x288 with 1 Axes>"
      ]
     },
     "metadata": {
      "needs_background": "light"
     },
     "output_type": "display_data"
    }
   ],
   "source": [
    "\n",
    "\n",
    "\n",
    "\n",
    " import numpy as np\n",
    "import matplotlib.pyplot as plt\n",
    "import seaborn as sns\n",
    "\n",
    "HistoryForm = dict(np.load('/srv/cosmdatb/erebos/yingzhong/selData/data/History_form.npz'))\n",
    "HistoryQuench = dict(np.load('/srv/cosmdatb/erebos/yingzhong/selData/data/History_quench.npz'))\n",
    "Fields = ['M_gas_max','Age_gas_max','M_star_max','M_bh_max','M_gas_after','M_star_after',\n",
    "         'M_bh_after','M_gas_befor','M_star_befor','M_bh_befor','PresentSubHaloID','BirthTime']\n",
    "\n",
    "'''cut off'''\n",
    "FormIndex   = np.union1d(np.where(np.log10(HistoryForm['M_bh_max']+1)<=6)[0],\n",
    "                             np.where(np.log10(HistoryForm['M_gas_after']+1)<=10)[0])\n",
    "                             \n",
    "QuenchIndex = np.union1d(np.where(np.log10(HistoryQuench['M_bh_max']+1)<=6)[0],\n",
    "                             np.where(np.log10(HistoryQuench['M_gas_after']+1)<=10)[0])\n",
    "\n",
    "for field in Fields:\n",
    "    HistoryForm[field]   = np.delete(HistoryForm[field],FormIndex)\n",
    "    HistoryQuench[field] = np.delete(HistoryQuench[field],QuenchIndex)\n",
    "\n",
    "fig, axs = plt.subplots()\n",
    "\n",
    "#axs = sns.distplot(np.log10(HistoryForm['slope_gas_after']+1),label='$sSFR > 10^{-11}\\ yr^{-1}$ & $S/T<0.25$')\n",
    "#axs = sns.distplot(np.log10(HistoryQuench['slope_bh_after']+1),label='$sSFR < 10^{-11}\\ yr^{-1}$ & $S/T<0.25$')\n",
    "\n",
    "axs = sns.distplot(HistoryForm['BirthTime'],label='$sSFR > 10^{-11}\\ yr^{-1}$ & $S/T<0.25$')\n",
    "axs = sns.distplot(HistoryQuench['BirthTime'],label='$sSFR < 10^{-11}\\ yr^{-1}$ & $S/T<0.25$')\n",
    "\n",
    "#axs.set_xlabel('$t_{max} $(Gyr)')\n",
    "#axs.set_xlabel('Age(Gyr)')\n",
    "axs.legend(fontsize='xx-small')\n",
    "#plt.savefig('/srv/cosmdatb/erebos/yingzhong/fig1/t_max\\ M_gas_max',dpi=250)"
   ]
  },
  {
   "cell_type": "code",
   "execution_count": 201,
   "metadata": {},
   "outputs": [
    {
     "data": {
      "text/plain": [
       "dict_keys(['M_gas_max', 'Age_gas_max', 'M_star_max', 'M_bh_max', 'M_gas_befor', 'M_star_befor', 'M_bh_befor', 'M_gas_after', 'M_star_after', 'M_bh_after', 'PresentSubHaloID', 'BirthTime'])"
      ]
     },
     "execution_count": 201,
     "metadata": {},
     "output_type": "execute_result"
    }
   ],
   "source": [
    "HistoryForm.keys()"
   ]
  },
  {
   "cell_type": "markdown",
   "metadata": {},
   "source": [
    "This cell separates bins 10"
   ]
  },
  {
   "cell_type": "code",
   "execution_count": 223,
   "metadata": {},
   "outputs": [],
   "source": [
    "import numpy as np\n",
    "\n",
    "HistoryForm = dict(np.load('/srv/cosmdatb/erebos/yingzhong/selData/data/History_form.npz'))\n",
    "HistoryQuench = dict(np.load('/srv/cosmdatb/erebos/yingzhong/selData/data/History_quench.npz'))\n",
    "\n",
    "resultForm   = {}\n",
    "resultQuench = {}\n",
    "NamesForm    = ['bin60_80','bin80_100']\n",
    "NamesQuench  = ['bin40_50','bin50_60','bin60_70','bin70_80','bin80_90','bin90_100']\n",
    "\n",
    "j = 60\n",
    "i = 0\n",
    "while i < 2:\n",
    "    indexForm   = np.intersect1d(np.where(HistoryForm['Age_gas_max'] >= j),\n",
    "                                 np.where(HistoryForm['Age_gas_max'] < j+20)) \n",
    "    resultForm[NamesForm[i]] = HistoryForm['PresentSubHaloID'][indexForm]\n",
    "    \n",
    "    i+=1\n",
    "    j+=20\n",
    "\n",
    "j = 40\n",
    "i = 0\n",
    "while i < 6:    \n",
    "    indexQuench = np.intersect1d(np.where(HistoryQuench['Age_gas_max'] >= j),\n",
    "                                 np.where(HistoryQuench['Age_gas_max'] < j+10))\n",
    "    \n",
    "    resultQuench[NamesQuench[i]] = HistoryQuench['PresentSubHaloID'][indexQuench]\n",
    "    \n",
    "    i+=1\n",
    "    j+=10\n",
    "\n",
    "np.savez('/srv/cosmdatb/erebos/yingzhong/selData/data/SubHaloSnapGasMaxBinsForm.npz',\n",
    "         bin60_80 = resultForm['bin60_80'], bin80_100 = resultForm['bin80_100'])\n",
    "\n",
    "np.savez('/srv/cosmdatb/erebos/yingzhong/selData/data/SubHaloSnapGasMaxBinsQuench.npz',\n",
    "         bin40_50 = resultQuench['bin40_50'], bin50_60 = resultQuench['bin50_60'], bin60_70 = resultQuench['bin60_70'],\n",
    "        bin70_80 = resultQuench['bin70_80'],bin80_90 = resultQuench['bin80_90'],bin90_100 = resultQuench['bin90_100'])"
   ]
  },
  {
   "cell_type": "markdown",
   "metadata": {},
   "source": [
    "This cell separates bins 5"
   ]
  },
  {
   "cell_type": "code",
   "execution_count": 224,
   "metadata": {},
   "outputs": [],
   "source": [
    "import numpy as np\n",
    "\n",
    "HistoryForm = dict(np.load('/srv/cosmdatb/erebos/yingzhong/selData/data/History_form.npz'))\n",
    "HistoryQuench = dict(np.load('/srv/cosmdatb/erebos/yingzhong/selData/data/History_quench.npz'))\n",
    "\n",
    "resultForm   = {}\n",
    "resultQuench = {}\n",
    "NamesForm    = ['bin60_80','bin80_100']\n",
    "NamesQuench  = ['bin40_45','bin45_50','bin50_55','bin55_60','bin60_65','bin65_70',\n",
    "                'bin70_75','bin75_80','bin80_85','bin85_90','bin90_95','bin95_100']\n",
    "\n",
    "j = 60\n",
    "i = 0\n",
    "while i < 2:\n",
    "    indexForm   = np.intersect1d(np.where(HistoryForm['Age_gas_max'] >= j),\n",
    "                                 np.where(HistoryForm['Age_gas_max'] < j+20)) \n",
    "    resultForm[NamesForm[i]] = HistoryForm['PresentSubHaloID'][indexForm]\n",
    "    \n",
    "    i+=1\n",
    "    j+=20\n",
    "\n",
    "j = 40\n",
    "i = 0\n",
    "while i < 12:    \n",
    "    indexQuench = np.intersect1d(np.where(HistoryQuench['Age_gas_max'] >= j),\n",
    "                                 np.where(HistoryQuench['Age_gas_max'] < j+5))\n",
    "    \n",
    "    resultQuench[NamesQuench[i]] = HistoryQuench['Pre\n",
    "                                                 \n",
    "                                                 \n",
    "                                                 sentSubHaloID'][indexQuench]\n",
    "    \n",
    "    i+=1\n",
    "    j+=5\n",
    "\n",
    "np.savez('/srv/cosmdatb/erebos/yingzhong/selData/data/SubHaloSnapGasMaxBinsForm.npz',\n",
    "         bin60_80 = resultForm['bin60_80'], bin80_100 = resultForm['bin80_100'])\n",
    "\n",
    "np.savez('/srv/cosmdatb/erebos/yingzhong/selData/data/SubHaloSnapGasMaxBinsQuench5.npz',\n",
    "         bin40_45 = resultQuench['bin40_45'], bin45_50 = resultQuench['bin45_50'], bin50_55 = resultQuench['bin50_55'],\n",
    "        bin55_60 = resultQuench['bin55_60'],bin60_65 = resultQuench['bin60_65'],bin65_70 = resultQuench['bin65_70'],\n",
    "        bin70_75 = resultQuench['bin70_75'],bin75_80 = resultQuench['bin75_80'],bin80_85 = resultQuench['bin80_85'],\n",
    "        bin85_90 = resultQuench['bin85_90'],bin90_95 = resultQuench['bin90_95'],bin95_100 = resultQuench['bin95_100'])"
   ]
  },
  {
   "cell_type": "code",
   "execution_count": 225,
   "metadata": {
    "scrolled": true
   },
   "outputs": [
    {
     "data": {
      "text/plain": [
       "dict_keys(['bin40_45', 'bin45_50', 'bin50_55', 'bin55_60', 'bin60_65', 'bin65_70', 'bin70_75', 'bin75_80', 'bin80_85', 'bin85_90', 'bin90_95', 'bin95_100'])"
      ]
     },
     "execution_count": 225,
     "metadata": {},
     "output_type": "execute_result"
    }
   ],
   "source": [
    "resultQuench.keys()"
   ]
  },
  {
   "cell_type": "markdown",
   "metadata": {},
   "source": [
    "calculate the number of mergers of a subhalo within its fast growing period"
   ]
  },
  {
   "cell_type": "code",
   "execution_count": 333,
   "metadata": {},
   "outputs": [],
   "source": [
    "from illustris_python1.util import partTypeNum\n",
    "from illustris_python1.sublink import maxPastMass\n",
    "import numpy as np\n",
    "import illustris_python1 as il\n",
    "\n",
    "def NumMergers(Id,TimeLim=40,MassRatio=1/3):\n",
    "    def Mergers(tree, minMassRatio=1e-10, massPartType='star', index=0):\n",
    "        \"\"\" Calculate the number of mergers in this sub-tree (optionally above some mass ratio threshold) and \n",
    "        archive the snapnum of the merger. \"\"\"\n",
    "        # verify the input sub-tree has the required fields\n",
    "        reqFields = ['SubhaloID', 'NextProgenitorID', 'MainLeafProgenitorID',\n",
    "                     'FirstProgenitorID', 'SubhaloMassType','SnapNum']\n",
    "\n",
    "        if not set(reqFields).issubset(tree.keys()):\n",
    "            raise Exception('Error: Input tree needs to have loaded fields: '+', '.join(reqFields))\n",
    "\n",
    "        numMergers   = 0\n",
    "        invMassRatio = 1.0 / minMassRatio\n",
    "        Time         = np.zeros(0,dtype=int)\n",
    "        result       = {}\n",
    "\n",
    "        # walk back main progenitor branch\n",
    "        rootID = tree['SubhaloID'][index]\n",
    "        fpID   = tree['FirstProgenitorID'][index]\n",
    "\n",
    "        while fpID != -1:\n",
    "            fpIndex = index + (fpID - rootID)\n",
    "            fpMass  = maxPastMass(tree, fpIndex, massPartType)\n",
    "\n",
    "            # explore breadth\n",
    "            npID = tree['NextProgenitorID'][fpIndex]\n",
    "\n",
    "            while npID != -1:\n",
    "                npIndex = index + (npID - rootID)\n",
    "                npMass  = maxPastMass(tree, npIndex, massPartType)\n",
    "\n",
    "                # count if both masses are non-zero, and ratio exceeds threshold\n",
    "                if fpMass > 0.0 and npMass > 0.0:\n",
    "                    ratio = npMass / fpMass\n",
    "\n",
    "                    if ratio >= minMassRatio and ratio <= invMassRatio:\n",
    "                        numMergers += 1\n",
    "                        Time       = np.append(Time,tree['SnapNum'][fpIndex-1])\n",
    "\n",
    "                npID = tree['NextProgenitorID'][npIndex]\n",
    "\n",
    "            fpID = tree['FirstProgenitorID'][fpIndex]\n",
    "\n",
    "        result['numMergers'] = numMergers\n",
    "        result['SnapNum']    = Time\n",
    "\n",
    "        return result\n",
    "\n",
    "    basePath   = '/srv/cosmdatb/erebos/peng/sims.TNG/TNG300-1/output'\n",
    "    snapNum    = 99\n",
    "    Fields     = ['SnapNum','SubhaloMassType','SubhaloID','SubfindID','SubhaloBHMass','NextProgenitorID'\n",
    "                  ,'MainLeafProgenitorID','FirstProgenitorID']\n",
    "    Tree   = il.sublink.loadTree(basePath, snapNum, id=Id, fields=Fields)\n",
    "    result = Mergers(tree=Tree, minMassRatio=MassRatio)\n",
    "    \n",
    "    Num = len(np.where(result['SnapNum'] <= TimeLim+2)[0]) \n",
    "    \n",
    "    return Num"
   ]
  },
  {
   "cell_type": "code",
   "execution_count": 393,
   "metadata": {},
   "outputs": [],
   "source": [
    "import numpy as np\n",
    "fMmass = dict(np.load('/srv/cosmdatb/erebos/yingzhong/selData/data/SubHaloSnapGasMaxBinsFormCentral.npz'))\n",
    "f      = dict(np.load('/srv/cosmdatb/erebos/yingzhong/selData/data/SubHaloSnapGasMaxBinsQuench5Central.npz'))\n",
    "NamesForm    = ['bin60_80','bin80_100']\n",
    "NamesQuench  = ['bin40_45','bin45_50','bin50_55','bin55_60','bin60_65','bin65_70',\n",
    "                'bin70_75','bin75_80','bin80_85','bin85_90','bin90_95','bin95_100']\n",
    "\n",
    "resultForm   = {}\n",
    "resultQuench = {}\n",
    "\n",
    "for name in NamesQuench:\n",
    "    resultQuench[name] = np.zeros(0)\n",
    "    ID = f[name]\n",
    "    for Id in ID:\n",
    "        resultQuench[name] = np.append(resultQuench[name],NumMergers(Id=Id,TimeLim=40,MassRatio=1/4))\n",
    "        \n",
    "for name in NamesForm:\n",
    "    resultForm[name] = np.zeros(0)\n",
    "    ID = fMmass[name]\n",
    "    for Id in ID:\n",
    "        resultForm[name] = np.append(resultForm[name],NumMergers(Id=Id,TimeLim=40,MassRatio=1/4))\n"
   ]
  },
  {
   "cell_type": "code",
   "execution_count": 394,
   "metadata": {},
   "outputs": [
    {
     "data": {
      "text/plain": [
       "<matplotlib.legend.Legend at 0x7f835555c640>"
      ]
     },
     "execution_count": 394,
     "metadata": {},
     "output_type": "execute_result"
    },
    {
     "data": {
      "image/png": "[encoded data removed]",
      "text/plain": [
       "<Figure size 432x288 with 1 Axes>"
      ]
     },
     "metadata": {
      "needs_background": "light"
     },
     "output_type": "display_data"
    }
   ],
   "source": [
    "import matplotlib.pyplot as plt\n",
    "import seaborn as sns\n",
    "\n",
    "fig, axs = plt.subplots()\n",
    "for name in NamesForm[1:2]:\n",
    "    axs = sns.distplot(resultForm[name],label='form_%s' %name,kde=None,bins=5,\n",
    "                       hist_kws={'range':(0,5)},norm_hist=True)\n",
    "\n",
    "for name in NamesQuench[1:2]:\n",
    "    ans = sns.distplot(resultQuench[name],label='quench_%s' %name,kde=None,bins=5,\n",
    "                       hist_kws={'range':(0,5)},norm_hist=True)\n",
    "    \n",
    "axs.set_xlabel('$N_{mergers}$')\n",
    "axs.legend(fontsize='xx-small')\n",
    "#plt.savefig('/srv/cosmdatb/erebos/yingzhong/fig1/NumMergers_40_45_SnapLim40_major',dpi=250)"
   ]
  },
  {
   "cell_type": "code",
   "execution_count": 351,
   "metadata": {},
   "outputs": [],
   "source": [
    "import numpy as np\n",
    "fMmass = dict(np.load('/srv/cosmdatb/erebos/yingzhong/selData/data/SubHaloSnapGasMaxBinsFormCentral.npz'))\n",
    "f      = dict(np.load('/srv/cosmdatb/erebos/yingzhong/selData/data/SubHaloSnapGasMaxBinsQuench5Central.npz'))\n",
    "NamesForm    = ['bin60_80','bin80_100']\n",
    "NamesQuench  = ['bin40_45','bin45_50','bin50_55','bin55_60','bin60_65','bin65_70',\n",
    "                'bin70_75','bin75_80','bin80_85','bin85_90','bin90_95','bin95_100']\n",
    "resultForm   = {}\n",
    "resultQuench ={}\n",
    "\n",
    "for name in NamesQuench:\n",
    "    resultQuench[name] = np.zeros(0)\n",
    "    ID = f[name]\n",
    "    for Id in ID:\n",
    "        resultQuench[name] = np.append(resultQuench[name],NumMergers(Id=Id,TimeLim=40,MassRatio=1/100))\n",
    "        \n",
    "for name in NamesForm:\n",
    "    resultForm[name] = np.zeros(0)\n",
    "    ID = fMmass[name]\n",
    "    for Id in ID:\n",
    "        resultForm[name] = np.append(resultForm[name],NumMergers(Id=Id,TimeLim=40,MassRatio=1/100))"
   ]
  },
  {
   "cell_type": "code",
   "execution_count": 352,
   "metadata": {},
   "outputs": [
    {
     "data": {
      "text/plain": [
       "<matplotlib.legend.Legend at 0x7f835579edc0>"
      ]
     },
     "execution_count": 352,
     "metadata": {},
     "output_type": "execute_result"
    },
    {
     "data": {
      "image/png": "[encoded data removed]",
      "text/plain": [
       "<Figure size 432x288 with 1 Axes>"
      ]
     },
     "metadata": {
      "needs_background": "light"
     },
     "output_type": "display_data"
    }
   ],
   "source": [
    "import matplotlib.pyplot as plt\n",
    "import seaborn as sns\n",
    "\n",
    "fig, axs = plt.subplots()\n",
    "for name in NamesForm[1:2]:\n",
    "    axs = sns.distplot(resultForm[name],label='form_%s' %name,kde=None,norm_hist=True)\n",
    "\n",
    "for name in NamesQuench[0:1]:\n",
    "    ans = sns.distplot(resultQuench[name],label='quench_%s' %name,kde=None,norm_hist=True)\n",
    "    \n",
    "axs.set_xlabel('$N_{mergers}$')\n",
    "axs.legend(fontsize='xx-small')\n",
    "#plt.savefig('/srv/cosmdatb/erebos/yingzhong/fig1/NumMergers_40_45',dpi=250)"
   ]
  },
  {
   "cell_type": "code",
   "execution_count": 754,
   "metadata": {},
   "outputs": [],
   "source": [
    "FormMedian   = np.zeros(0,dtype=int)\n",
    "QuenchMedian = np.zeros(0,dtype=int)\n",
    "\n",
    "for name in NamesForm:\n",
    "    FormMedian = np.append(FormMedian,np.median(resultForm[name]))\n",
    "    \n",
    "for name in NamesQuench:\n",
    "    QuenchMedian = np.append(QuenchMedian,np.median(resultQuench[name]))\n",
    "    "
   ]
  },
  {
   "cell_type": "code",
   "execution_count": 755,
   "metadata": {},
   "outputs": [
    {
     "data": {
      "text/plain": [
       "array([16., 12., 13., 12., 12., 12., 10., 11., 11., 11., 10., 10.])"
      ]
     },
     "execution_count": 755,
     "metadata": {},
     "output_type": "execute_result"
    }
   ],
   "source": [
    "QuenchMedian[0:]"
   ]
  },
  {
   "cell_type": "code",
   "execution_count": 756,
   "metadata": {},
   "outputs": [
    {
     "data": {
      "text/plain": [
       "array([9., 8.])"
      ]
     },
     "execution_count": 756,
     "metadata": {},
     "output_type": "execute_result"
    }
   ],
   "source": [
    "FormMedian"
   ]
  },
  {
   "cell_type": "markdown",
   "metadata": {},
   "source": [
    "conclusion: The differences does  cause by mergers "
   ]
  },
  {
   "cell_type": "markdown",
   "metadata": {},
   "source": [
    "The distribution of mergers"
   ]
  },
  {
   "cell_type": "code",
   "execution_count": 365,
   "metadata": {},
   "outputs": [],
   "source": [
    "from illustris_python1.util import partTypeNum\n",
    "from illustris_python1.sublink import maxPastMass\n",
    "import numpy as np\n",
    "import illustris_python1 as il\n",
    "\n",
    "def TimeMergers(Id,TimeLim=40,MassRatio=1/3):\n",
    "    def Mergers(tree, minMassRatio=1e-10, massPartType='star', index=0):\n",
    "        \"\"\" Calculate the number of mergers in this sub-tree (optionally above some mass ratio threshold) and \n",
    "        archive the snapnum of the merger. \"\"\"\n",
    "        # verify the input sub-tree has the required fields\n",
    "        reqFields = ['SubhaloID', 'NextProgenitorID', 'MainLeafProgenitorID',\n",
    "                     'FirstProgenitorID', 'SubhaloMassType','SnapNum']\n",
    "\n",
    "        if not set(reqFields).issubset(tree.keys()):\n",
    "            raise Exception('Error: Input tree needs to have loaded fields: '+', '.join(reqFields))\n",
    "\n",
    "        numMergers   = 0\n",
    "        invMassRatio = 1.0 / minMassRatio\n",
    "        Time         = np.zeros(0,dtype=int)\n",
    "        result       = {}\n",
    "\n",
    "        # walk back main progenitor branch\n",
    "        rootID = tree['SubhaloID'][index]\n",
    "        fpID   = tree['FirstProgenitorID'][index]\n",
    "\n",
    "        while fpID != -1:\n",
    "            fpIndex = index + (fpID - rootID)\n",
    "            fpMass  = maxPastMass(tree, fpIndex, massPartType)\n",
    "\n",
    "            # explore breadth\n",
    "            npID = tree['NextProgenitorID'][fpIndex]\n",
    "\n",
    "            while npID != -1:\n",
    "                npIndex = index + (npID - rootID)\n",
    "                npMass  = maxPastMass(tree, npIndex, massPartType)\n",
    "\n",
    "                # count if both masses are non-zero, and ratio exceeds threshold\n",
    "                if fpMass > 0.0 and npMass > 0.0:\n",
    "                    ratio = npMass / fpMass\n",
    "\n",
    "                    if ratio >= minMassRatio and ratio <= invMassRatio:\n",
    "                        numMergers += 1\n",
    "                        Time       = np.append(Time,tree['SnapNum'][fpIndex-1])\n",
    "\n",
    "                npID = tree['NextProgenitorID'][npIndex]\n",
    "\n",
    "            fpID = tree['FirstProgenitorID'][fpIndex]\n",
    "\n",
    "        result['numMergers'] = numMergers\n",
    "        result['SnapNum']    = Time\n",
    "\n",
    "        return result\n",
    "\n",
    "    basePath   = '/srv/cosmdatb/erebos/peng/sims.TNG/TNG300-1/output'\n",
    "    snapNum    = 99\n",
    "    Fields     = ['SnapNum','SubhaloMassType','SubhaloID','SubfindID','SubhaloBHMass','NextProgenitorID'\n",
    "                  ,'MainLeafProgenitorID','FirstProgenitorID']\n",
    "    Tree   = il.sublink.loadTree(basePath, snapNum, id=Id, fields=Fields)\n",
    "    result = Mergers(tree=Tree, minMassRatio=MassRatio)\n",
    "    \n",
    "    TimeIndex = np.where(result['SnapNum'] <= TimeLim+2)\n",
    "    \n",
    "    return result['SnapNum'][TimeIndex]"
   ]
  },
  {
   "cell_type": "code",
   "execution_count": 366,
   "metadata": {},
   "outputs": [],
   "source": [
    "import numpy as np\n",
    "import matplotlib.pyplot as plt\n",
    "\n",
    "fMmass = dict(np.load('/srv/cosmdatb/erebos/yingzhong/selData/data/SubHaloSnapGasMaxBinsForm.npz'))\n",
    "f      = dict(np.load('/srv/cosmdatb/erebos/yingzhong/selData/data/SubHaloSnapGasMaxBinsQuench5.npz'))\n",
    "NamesForm    = ['bin60_80','bin80_100']\n",
    "NamesQuench  = ['bin40_45','bin45_50','bin50_55','bin55_60','bin60_65','bin65_70',\n",
    "                'bin70_75','bin75_80','bin80_85','bin85_90','bin90_95','bin95_100']\n",
    "\n",
    "resultForm   = {}\n",
    "resultQuench ={}\n",
    "\n",
    "for name in NamesQuench:\n",
    "    resultQuench[name] = np.zeros(0)\n",
    "    ID = f[name]\n",
    "    for Id in ID:\n",
    "        resultQuench[name] = np.append(resultQuench[name],TimeMergers(Id=Id,TimeLim=40,MassRatio=1/4))\n",
    "        \n",
    "for name in NamesForm:\n",
    "    resultForm[name] = np.zeros(0)\n",
    "    ID = fMmass[name]\n",
    "    for Id in ID:\n",
    "        resultForm[name] = np.append(resultForm[name],TimeMergers(Id=Id,TimeLim=40,MassRatio=1/4))"
   ]
  },
  {
   "cell_type": "markdown",
   "metadata": {},
   "source": [
    "need to separate the bin accuraetly ?"
   ]
  },
  {
   "cell_type": "code",
   "execution_count": 392,
   "metadata": {},
   "outputs": [
    {
     "data": {
      "image/png": "[encoded data removed]",
      "text/plain": [
       "<Figure size 432x288 with 1 Axes>"
      ]
     },
     "metadata": {
      "needs_background": "light"
     },
     "output_type": "display_data"
    }
   ],
   "source": [
    "fig, axs = plt.subplots()\n",
    "\n",
    "for name in NamesForm[1:2]:\n",
    "    axs = sns.distplot(resultForm[name],bins=45,\n",
    "                       hist_kws={'range':(0,45)},norm_hist=True)\n",
    "\n",
    "for name in NamesQuench[11:12]:\n",
    "    axs = sns.distplot(resultQuench[name],bins=45,\n",
    "                       hist_kws={'range':(0,45)},norm_hist=True)\n",
    "    \n"
   ]
  },
  {
   "cell_type": "markdown",
   "metadata": {},
   "source": [
    "whether every galaxy in a merger tree is a central galaxy ?"
   ]
  },
  {
   "cell_type": "code",
   "execution_count": 707,
   "metadata": {},
   "outputs": [],
   "source": [
    "def satelliteSingle(Id):\n",
    "    basePath   = '/srv/cosmdatb/erebos/peng/sims.TNG/TNG300-1/output'\n",
    "    snapNum    = 99\n",
    "    Fields     = ['SnapNum','FirstSubhaloInFOFGroupID','SubhaloID']\n",
    "    result     = {}\n",
    "    \n",
    "    Tree = il.sublink.loadTree(basePath, snapNum, id=Id, fields=Fields,onlyMPB=True)\n",
    "    Arr  = Tree['FirstSubhaloInFOFGroupID'] - Tree['SubhaloID']\n",
    "    \n",
    "    satelliteIndex = np.where(Arr!=0)\n",
    "    \n",
    "    result['SatelliteNum']     = len(satelliteIndex[0])\n",
    "    result['presentSubhaloID'] = Id\n",
    "    \n",
    "    return result\n",
    "\n",
    "def satellite(ID):\n",
    "    Result = {'SatelliteNum':np.zeros(0,dtype=int),'presentSubhaloID':np.zeros(0,dtype=int)}\n",
    "    for Id in ID:\n",
    "        dic = satelliteSingle(Id)\n",
    "        Result['SatelliteNum'] = np.append(Result['SatelliteNum'],dic['SatelliteNum'])\n",
    "        Result['presentSubhaloID'] = np.append(Result['presentSubhaloID'],dic['presentSubhaloID'])\n",
    "        \n",
    "    return Result\n",
    "        "
   ]
  },
  {
   "cell_type": "code",
   "execution_count": 711,
   "metadata": {},
   "outputs": [],
   "source": [
    "import numpy as np\n",
    "import illustris_python1 as il\n",
    "\n",
    "fMmass = dict(np.load('/srv/cosmdatb/erebos/yingzhong/selData/data/SubHaloSnapGasMaxBinsForm.npz'))\n",
    "f      = dict(np.load('/srv/cosmdatb/erebos/yingzhong/selData/data/SubHaloSnapGasMaxBinsQuench5.npz'))\n",
    "NamesForm    = ['bin60_80','bin80_100']\n",
    "NamesQuench  = ['bin40_45','bin45_50','bin50_55','bin55_60','bin60_65','bin65_70',\n",
    "                'bin70_75','bin75_80','bin80_85','bin85_90','bin90_95','bin95_100']\n",
    "minLim = 5\n",
    "resultForm   = {}\n",
    "resultQuench = {}\n",
    "\n",
    "for name in NamesForm:\n",
    "    resultForm[name] = np.zeros(0)\n",
    "    \n",
    "for name in NamesQuench:\n",
    "    resultQuench[name] = np.zeros(0)\n",
    "\n",
    "for name in NamesForm:\n",
    "    IDform          = fMmass[name]\n",
    "    satelliteForm   = satellite(IDform)\n",
    "\n",
    "    index            = np.where(satelliteForm['SatelliteNum']<=minLim)\n",
    "    resultForm[name] = satelliteForm['presentSubhaloID'][index]\n",
    "\n",
    "for name in NamesQuench:\n",
    "    IDquench        = f[name]\n",
    "    satelliteQuench = satellite(IDquench)\n",
    "\n",
    "    index              = np.where(satelliteQuench['SatelliteNum']<=minLim)\n",
    "    resultQuench[name] = satelliteQuench['presentSubhaloID'][index]\n",
    "\n",
    "np.savez('/srv/cosmdatb/erebos/yingzhong/selData/data/SubHaloSnapGasMaxBinsFormCentral.npz',\n",
    "         bin60_80 = resultForm['bin60_80'], bin80_100 = resultForm['bin80_100'])\n",
    "\n",
    "np.savez('/srv/cosmdatb/erebos/yingzhong/selData/data/SubHaloSnapGasMaxBinsQuench5Central.npz',\n",
    "         bin40_45 = resultQuench['bin40_45'], bin45_50 = resultQuench['bin45_50'], bin50_55 = resultQuench['bin50_55'],\n",
    "        bin55_60 = resultQuench['bin55_60'],bin60_65 = resultQuench['bin60_65'],bin65_70 = resultQuench['bin65_70'],\n",
    "        bin70_75 = resultQuench['bin70_75'],bin75_80 = resultQuench['bin75_80'],bin80_85 = resultQuench['bin80_85'],\n",
    "        bin85_90 = resultQuench['bin85_90'],bin90_95 = resultQuench['bin90_95'],bin95_100 = resultQuench['bin95_100'])"
   ]
  },
  {
   "cell_type": "code",
   "execution_count": 738,
   "metadata": {},
   "outputs": [],
   "source": [
    "fMmass = dict(np.load('/srv/cosmdatb/erebos/yingzhong/selData/data/SubHaloSnapGasMaxBinsFormCentral.npz'))\n",
    "f      = dict(np.load('/srv/cosmdatb/erebos/yingzhong/selData/data/SubHaloSnapGasMaxBinsQuench5Central.npz'))\n",
    "NamesForm    = ['bin60_80','bin80_100']\n",
    "NamesQuench  = ['bin40_45','bin45_50','bin50_55','bin55_60','bin60_65','bin65_70',\n",
    "                'bin70_75','bin75_80','bin80_85','bin85_90','bin90_95','bin95_100']\n",
    "i = 1\n",
    "j = 11\n",
    "\n",
    "IDform          = fMmass[NamesForm[i]]\n",
    "IDquench        = f[NamesQuench[j]]\n",
    "\n",
    "satelliteForm   = satellite(IDform)\n",
    "satelliteQuench = satellite(IDquench)\n"
   ]
  },
  {
   "cell_type": "markdown",
   "metadata": {},
   "source": [
    "calculate the Re and S/T of the galaxy of t_max"
   ]
  },
  {
   "cell_type": "code",
   "execution_count": null,
   "metadata": {},
   "outputs": [],
   "source": [
    "# change snapshot to age(Gyr)\n",
    "import numpy as np\n",
    "from scipy import integrate\n",
    "\n",
    "def AgeRedshift(x):\n",
    "    \n",
    "    h =  0.6774\n",
    "    Omega_L0 = 0.6911\n",
    "    Omega_r0 = 0       #4.2 * 10**(-5) / h**2\n",
    "    Omega_m0 = 0.3089\n",
    "    \n",
    "    def E(z):\n",
    "        return np.sqrt(Omega_L0 - Omega_r0*(1+z)**2 + Omega_m0 * (1+z)**3 + Omega_r0*(1+z)**4)\n",
    "        #return np.sqrt(Omega_L0 + Omega_m0 * (1+z)**3 + Omega_r0*(1+z)**4)\n",
    "    def f(z):\n",
    "        return 9.785 / (h*E(z)*(1+z))\n",
    "    \n",
    "\n",
    "    return integrate.quad(lambda z:f(z),x,np.inf)[0]\n",
    "\n",
    "def AgeSnap(Snap):\n",
    "    SnapRedshift = dict(np.load('/srv/cosmdatb/erebos/yingzhong/selData/data/SnapRedshift.npz'))['Redshift']\n",
    "    \n",
    "    return AgeRedshift(SnapRedshift[Snap])"
   ]
  },
  {
   "cell_type": "code",
   "execution_count": null,
   "metadata": {},
   "outputs": [],
   "source": [
    "def Re_ratioS_T(basePath,snapNum,a,ID,h=0.677):\n",
    "    \n",
    "    result = [0,0,0]\n",
    "    SpMass = 0\n",
    "    SFR = getSFR(basePath,snapNum,ID,a)\n",
    "    Data = cirparameter(basePath,snapNum,ID,a,H_z_0)\n",
    "    starNum = len(Data['Masses'])\n",
    "\n",
    "    Data['Masses'] = Data['Masses']/h             # unit of mass: M_{\\odot}\n",
    "    TotalStellarMass = np.sum(Data['Masses'])\n",
    "    \n",
    "    if TotalStellarMass <= limStarMass:\n",
    "        for i in np.arange(3):\n",
    "            result[i] = []\n",
    "            \n",
    "        return result\n",
    "    \n",
    "    if SFR == 0:\n",
    "        sSFR = -20                                # can choose another number\n",
    "    else:\n",
    "        sSFR = np.log10(SFR/TotalStellarMass)                   # unit of sSFR: yr^{-1}\n",
    "\n",
    "    for i in np.arange(starNum):\n",
    "        if Data['cirPar'][i]<0:\n",
    "            SpMass = SpMass + Data['Masses'][i]*2\n",
    "        elif Data['cirPar'][i]==0:\n",
    "            SpMass = SpMass + Data['Masses'][i]\n",
    "        else:\n",
    "            continue\n",
    "    ratioS_T = SpMass/TotalStellarMass\n",
    "\n",
    "    result[0] = [ID]\n",
    "    result[1] = [ratioS_T]\n",
    "    result[2] = [sSFR]\n",
    "\n",
    "    return result\n"
   ]
  }
 ],
 "metadata": {
  "kernelspec": {
   "display_name": "Python 3",
   "language": "python",
   "name": "python3"
  },
  "language_info": {
   "codemirror_mode": {
    "name": "ipython",
    "version": 3
   },
   "file_extension": ".py",
   "mimetype": "text/x-python",
   "name": "python",
   "nbconvert_exporter": "python",
   "pygments_lexer": "ipython3",
   "version": "3.8.3"
  }
 },
 "nbformat": 4,
 "nbformat_minor": 4
}
